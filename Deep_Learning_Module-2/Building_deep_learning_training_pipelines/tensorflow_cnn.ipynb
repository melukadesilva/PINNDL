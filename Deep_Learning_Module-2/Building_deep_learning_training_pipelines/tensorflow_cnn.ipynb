{
 "cells": [
  {
   "cell_type": "code",
   "execution_count": 4,
   "metadata": {},
   "outputs": [],
   "source": [
    "import tensorflow as tf\n",
    "from tensorflow.keras.layers import Conv2D, MaxPool2D, Flatten, Dense\n",
    "from tensorflow.keras.models import Sequential\n",
    "import numpy as np"
   ]
  },
  {
   "cell_type": "code",
   "execution_count": 5,
   "metadata": {},
   "outputs": [],
   "source": [
    "def model_builder():\n",
    "    model = Sequential()\n",
    "    model.add(Conv2D(input_shape=(224,224,3),filters=64,kernel_size=(3,3),padding=\"same\", activation=\"relu\"))\n",
    "    model.add(Conv2D(filters=64,kernel_size=(3,3),padding=\"same\", activation=\"relu\"))\n",
    "    model.add(MaxPool2D(pool_size=(2,2),strides=(2,2)))\n",
    "    model.add(Conv2D(filters=128, kernel_size=(3,3), padding=\"same\", activation=\"relu\"))\n",
    "    model.add(Conv2D(filters=128, kernel_size=(3,3), padding=\"same\", activation=\"relu\"))\n",
    "    model.add(MaxPool2D(pool_size=(2,2),strides=(2,2)))\n",
    "    model.add(Conv2D(filters=256, kernel_size=(3,3), padding=\"same\", activation=\"relu\"))\n",
    "    model.add(Conv2D(filters=256, kernel_size=(3,3), padding=\"same\", activation=\"relu\"))\n",
    "    model.add(Conv2D(filters=256, kernel_size=(3,3), padding=\"same\", activation=\"relu\"))\n",
    "    model.add(MaxPool2D(pool_size=(2,2),strides=(2,2)))\n",
    "    model.add(Conv2D(filters=512, kernel_size=(3,3), padding=\"same\", activation=\"relu\"))\n",
    "    model.add(Conv2D(filters=512, kernel_size=(3,3), padding=\"same\", activation=\"relu\"))\n",
    "    model.add(Conv2D(filters=512, kernel_size=(3,3), padding=\"same\", activation=\"relu\"))\n",
    "    model.add(MaxPool2D(pool_size=(2,2),strides=(2,2)))\n",
    "    model.add(Conv2D(filters=512, kernel_size=(3,3), padding=\"same\", activation=\"relu\"))\n",
    "    model.add(Conv2D(filters=512, kernel_size=(3,3), padding=\"same\", activation=\"relu\"))\n",
    "    model.add(Conv2D(filters=512, kernel_size=(3,3), padding=\"same\", activation=\"relu\"))\n",
    "    model.add(MaxPool2D(pool_size=(2,2),strides=(2,2)))\n",
    "    \n",
    "    model.add(Flatten())\n",
    "    model.add(Dense(units=4096,activation=\"relu\"))\n",
    "    model.add(Dense(units=4096,activation=\"relu\"))\n",
    "    model.add(Dense(units=2, activation=\"softmax\"))\n",
    "    \n",
    "    return model"
   ]
  },
  {
   "cell_type": "code",
   "execution_count": null,
   "metadata": {},
   "outputs": [],
   "source": [
    "## test the model with dummy data\n",
    "net = model_builder()\n",
    "net.summary()\n",
    "inp = tf.random.normal(shape=(100, 784))\n",
    "out = net(inp)\n",
    "print(out.shape)"
   ]
  },
  {
   "cell_type": "code",
   "execution_count": 34,
   "metadata": {},
   "outputs": [],
   "source": [
    "lr = 1e-3\n",
    "optimizer = tf.keras.optimizers.SGD(learning_rate=lr)\n",
    "def compute_and_apply_grads(inputs, targets):\n",
    "    ## start recording the gradients with the GradientTape\n",
    "    with tf.GradientTape() as tape:\n",
    "        preds = net(inputs)\n",
    "        loss = tf.keras.losses.mean_squared_error(preds, targets)\n",
    "    ## compute the gradients\n",
    "    grads = tape.gradient(loss, net.trainable_variables)\n",
    "    optimizer.apply_gradients(zip(grads, net.trainable_variables))\n",
    "    ## return loss and grads for monitoring\n",
    "    return loss, grads"
   ]
  },
  {
   "cell_type": "code",
   "execution_count": 35,
   "metadata": {},
   "outputs": [],
   "source": [
    "def compute_and_assign_grads(inputs, targets):\n",
    "    ## start recording the gradients with the GradientTape\n",
    "    with tf.GradientTape() as tape:\n",
    "        preds = net(inputs)\n",
    "        loss = tf.keras.losses.mean_squared_error(preds, targets)\n",
    "    ## compute the gradients\n",
    "    grads = tape.gradient(loss, net.trainable_variables)\n",
    "    #optimizer.apply_gradients(zip(grads, net.trainable_variables))\n",
    "    ## apply the weight update manually\n",
    "    for i in range(len(net.trainable_weights)):\n",
    "        net.trainable_weights[i].assign(net.trainable_weights[i] - lr * grads[i])\n",
    "    ## return loss and grads for monitoring\n",
    "    return loss, grads"
   ]
  },
  {
   "cell_type": "code",
   "execution_count": 36,
   "metadata": {},
   "outputs": [],
   "source": [
    "## get the mnist data\n",
    "mnist = tf.keras.datasets.mnist\n",
    "(train_images, train_labels), (test_images, test_labels) = mnist.load_data()"
   ]
  },
  {
   "cell_type": "code",
   "execution_count": 37,
   "metadata": {},
   "outputs": [],
   "source": [
    "## normalize the images\n",
    "train_images = train_images / 255.0\n",
    "test_images = test_images / 255.0"
   ]
  },
  {
   "cell_type": "code",
   "execution_count": 38,
   "metadata": {},
   "outputs": [],
   "source": [
    "## flatten and make a training and testing datasets\n",
    "train_images_flat = np.array(list(map(lambda x: x.flatten(), train_images)))\n",
    "test_images_flat = np.array(list(map(lambda x: x.flatten(), test_images)))\n",
    "#print(train_images_flat.shape)"
   ]
  },
  {
   "cell_type": "code",
   "execution_count": 39,
   "metadata": {},
   "outputs": [],
   "source": [
    "num_epochs = 10\n",
    "batch_size = 100\n",
    "num_batches = train_images_flat.shape[0] // batch_size\n",
    "num_classes = 10"
   ]
  },
  {
   "cell_type": "code",
   "execution_count": 40,
   "metadata": {},
   "outputs": [
    {
     "name": "stdout",
     "output_type": "stream",
     "text": [
      "Epoch Error: 0.04023778811097145\n",
      "Epoch Error: 0.02307838387787342\n",
      "Epoch Error: 0.019452393054962158\n",
      "Epoch Error: 0.017360657453536987\n",
      "Epoch Error: 0.015906155109405518\n",
      "Epoch Error: 0.014801308512687683\n",
      "Epoch Error: 0.013918668031692505\n",
      "Epoch Error: 0.013190492987632751\n",
      "Epoch Error: 0.012576783075928688\n",
      "Epoch Error: 0.012256614863872528\n"
     ]
    }
   ],
   "source": [
    "## batch iterate and train\n",
    "for e in range(num_epochs):\n",
    "    epoch_loss = list()\n",
    "    for batch_id in range(num_batches):\n",
    "        ## get the input and label batch\n",
    "        inp_batch = train_images_flat[batch_id:batch_id+batch_size]\n",
    "        #print(inp_batch.shape)\n",
    "        label_batch = train_labels[batch_id:batch_id+batch_size]\n",
    "        ## onehot encode the labels\n",
    "        onehot_batch = tf.one_hot(label_batch, num_classes)\n",
    "        #print(onehot_batch.shape)\n",
    "        ## compute and apply the gradients\n",
    "        loss, _ = compute_and_assign_grads(inp_batch, onehot_batch)\n",
    "        epoch_loss.append(loss)\n",
    "    print(\"Epoch Error: {}\".format(np.mean(epoch_loss)))"
   ]
  },
  {
   "cell_type": "code",
   "execution_count": null,
   "metadata": {},
   "outputs": [],
   "source": []
  }
 ],
 "metadata": {
  "kernelspec": {
   "display_name": "Python 3",
   "language": "python",
   "name": "python3"
  },
  "language_info": {
   "codemirror_mode": {
    "name": "ipython",
    "version": 3
   },
   "file_extension": ".py",
   "mimetype": "text/x-python",
   "name": "python",
   "nbconvert_exporter": "python",
   "pygments_lexer": "ipython3",
   "version": "3.6.9"
  }
 },
 "nbformat": 4,
 "nbformat_minor": 2
}
