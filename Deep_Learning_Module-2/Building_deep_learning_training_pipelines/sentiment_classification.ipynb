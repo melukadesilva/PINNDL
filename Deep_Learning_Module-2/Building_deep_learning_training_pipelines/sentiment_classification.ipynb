{
 "cells": [
  {
   "cell_type": "code",
   "execution_count": 1,
   "metadata": {},
   "outputs": [],
   "source": [
    "## Example from: https://www.tensorflow.org/tutorials/text/text_classification_rnn"
   ]
  },
  {
   "cell_type": "code",
   "execution_count": 2,
   "metadata": {},
   "outputs": [
    {
     "name": "stdout",
     "output_type": "stream",
     "text": [
      "\u001b[33mWARNING: You are using pip version 20.2.3; however, version 20.3.1 is available.\n",
      "You should consider upgrading via the '/usr/bin/python3 -m pip install --upgrade pip' command.\u001b[0m\n",
      "Note: you may need to restart the kernel to use updated packages.\n"
     ]
    }
   ],
   "source": [
    "pip install -q tensorflow_datasets"
   ]
  },
  {
   "cell_type": "code",
   "execution_count": 2,
   "metadata": {},
   "outputs": [],
   "source": [
    "import numpy as np\n",
    "\n",
    "import tensorflow_datasets as tfds\n",
    "import tensorflow as tf\n",
    "\n",
    "tfds.disable_progress_bar()"
   ]
  },
  {
   "cell_type": "code",
   "execution_count": 3,
   "metadata": {},
   "outputs": [],
   "source": [
    "physical_devices = tf.config.experimental.list_physical_devices('GPU')\n",
    "assert len(physical_devices) > 0, \"Not enough GPU hardware devices available\"\n",
    "config = tf.config.experimental.set_memory_growth(physical_devices[0], True)"
   ]
  },
  {
   "cell_type": "code",
   "execution_count": 4,
   "metadata": {},
   "outputs": [],
   "source": [
    "import matplotlib.pyplot as plt\n",
    "\n",
    "def plot_graphs(history, metric):\n",
    "  plt.plot(history.history[metric])\n",
    "  plt.plot(history.history['val_'+metric], '')\n",
    "  plt.xlabel(\"Epochs\")\n",
    "  plt.ylabel(metric)\n",
    "  plt.legend([metric, 'val_'+metric])"
   ]
  },
  {
   "cell_type": "code",
   "execution_count": 5,
   "metadata": {},
   "outputs": [
    {
     "data": {
      "text/plain": [
       "(TensorSpec(shape=(), dtype=tf.string, name=None),\n",
       " TensorSpec(shape=(), dtype=tf.int64, name=None))"
      ]
     },
     "execution_count": 5,
     "metadata": {},
     "output_type": "execute_result"
    }
   ],
   "source": [
    "## Download the imdb review dataset. This dataset has a binary label\n",
    "## for each text input. Label beign the move is good or bad (positive or negative)\n",
    "dataset, info = tfds.load('imdb_reviews', with_info=True,\n",
    "                          as_supervised=True)\n",
    "## Split the dataset into train and test set\n",
    "train_dataset, test_dataset = dataset['train'], dataset['test']\n",
    "## Check the data types of inputs and output\n",
    "train_dataset.element_spec"
   ]
  },
  {
   "cell_type": "code",
   "execution_count": 6,
   "metadata": {},
   "outputs": [
    {
     "name": "stdout",
     "output_type": "stream",
     "text": [
      "text:  b\"This was an absolutely terrible movie. Don't be lured in by Christopher Walken or Michael Ironside. Both are great actors, but this must simply be their worst role in history. Even their great acting could not redeem this movie's ridiculous storyline. This movie is an early nineties US propaganda piece. The most pathetic scenes were those when the Columbian rebels were making their cases for revolutions. Maria Conchita Alonso appeared phony, and her pseudo-love affair with Walken was nothing but a pathetic emotional plug in a movie that was devoid of any real meaning. I am disappointed that there are movies like this, ruining actor's like Christopher Walken's good name. I could barely sit through it.\"\n",
      "label:  0\n"
     ]
    }
   ],
   "source": [
    "## view one input output pair\n",
    "for example, label in train_dataset.take(1):\n",
    "  print('text: ', example.numpy())\n",
    "  print('label: ', label.numpy())"
   ]
  },
  {
   "cell_type": "code",
   "execution_count": 7,
   "metadata": {},
   "outputs": [],
   "source": [
    "len(train_dataset)\n",
    "## Buffer size should be equal or greater than the size of train dataset for randomly suffling\n",
    "BUFFER_SIZE = 10000\n",
    "BATCH_SIZE = 64"
   ]
  },
  {
   "cell_type": "code",
   "execution_count": 8,
   "metadata": {},
   "outputs": [],
   "source": [
    "train_dataset = train_dataset.shuffle(BUFFER_SIZE).batch(BATCH_SIZE)\n",
    "test_dataset = test_dataset.batch(BATCH_SIZE)"
   ]
  },
  {
   "cell_type": "code",
   "execution_count": 9,
   "metadata": {},
   "outputs": [
    {
     "name": "stdout",
     "output_type": "stream",
     "text": [
      "tf.Tensor(1, shape=(), dtype=int64)\n",
      "tf.Tensor(2, shape=(), dtype=int64)\n",
      "tf.Tensor(0, shape=(), dtype=int64)\n",
      "tf.Tensor(0, shape=(), dtype=int64)\n",
      "tf.Tensor(1, shape=(), dtype=int64)\n",
      "tf.Tensor(2, shape=(), dtype=int64)\n"
     ]
    }
   ],
   "source": [
    "dataset = tf.data.Dataset.range(3)\n",
    "dataset = dataset.shuffle(3, reshuffle_each_iteration=True)\n",
    "dataset = dataset.repeat(2)\n",
    "for eg in dataset:\n",
    "    print(eg)"
   ]
  },
  {
   "cell_type": "code",
   "execution_count": 10,
   "metadata": {},
   "outputs": [
    {
     "name": "stdout",
     "output_type": "stream",
     "text": [
      "texts:  [b\"This was excellent. Touching, action-packed, and perfect for Kurt Russel. I loved this movie, it deserves more than 5.3 or so stars. This movie is the story of an obsolete soldier who learns there is more to life than soldiering, and people who learn that there is a time for fighting, a need to defend. I cried, laughed and mostly sat in awe of this story. Good writing job for an action flick, and the plot was appropriate and fairly solid. The ending wasn't twisty, but it was still excellent. If you like escape from New York, or rooting for the underdog, this movie is for you. Not an undue amount of gore or violence, it was not difficult to watch in that respect. Something for everyone.\"\n",
      " b\"I expected alot from this movie. Kinda like Lee as a Naustradamous like caracter but instead all I got was a waste of time and a boring movie. I can't even explain this movie. It had wooden acting, terrible script from pieces from the Bible like hurricanes, tidal waves and earthquakes. But that was at the end! The rest of it I had to wait and hope that something meaningfull would happen but it didn't. This movie is about a couple that tries to find out the changes going on in the world like places in China where there was an earthquake and end up at a convent run by eight nuns and a priest. The convent end up being the key to the misshappenings. The whole movie is missleading and boring. One of Lees worst.\"\n",
      " b\"This movie has not aged well. Maybe it's just the impact and artful characterization, acting, and directing that we've seen with The Sopranos, but I just viewed Prizzi's Honor for the first time, on DVD, alone.<br /><br />The experience of watching it with an audience 24 years ago must have been quite different, but I have to say, I was just appalled at the ending. Not just the violence of it, but the mere idea that somehow this would be a satisfying ending.<br /><br />I enjoy a good shocker, but this seemed so out of character... Also, when was this move supposed to be set? The cars all seemed like they were from the 1960s, and yet the World Trade Center towers {completed in 1973} were clearly visible in many cityscape scenes.<br /><br />Another way in which the film has aged poorly is the mere idea that a passenger could travel coast to coast with a knife on his person.<br /><br />Somehow, mid-1980s audiences found this film charming and funny. Mid-eighties, meet the late oughts: only of you can live.\"]\n",
      "\n",
      "labels:  [1 0 0]\n"
     ]
    }
   ],
   "source": [
    "## Take one batch and view first 3 input text and output labels\n",
    "for example, label in train_dataset.take(1):\n",
    "  print('texts: ', example.numpy()[:3])\n",
    "  print()\n",
    "  print('labels: ', label.numpy()[:3])"
   ]
  },
  {
   "cell_type": "code",
   "execution_count": 11,
   "metadata": {},
   "outputs": [],
   "source": [
    "## Vocabulary size defines the number of unique words we must keep for encoding data through tokenization\n",
    "## any word that is out of the vocabulary will be annotated as a UKN\n",
    "VOCAB_SIZE=1000\n",
    "## The TextVectorization preprocessor converts the sentences into tokens\n",
    "encoder = tf.keras.layers.experimental.preprocessing.TextVectorization(\n",
    "    max_tokens=VOCAB_SIZE)\n",
    "encoder.adapt(train_dataset.map(lambda text, label: text))"
   ]
  },
  {
   "cell_type": "code",
   "execution_count": 12,
   "metadata": {},
   "outputs": [
    {
     "data": {
      "text/plain": [
       "array(['', '[UNK]', 'the', 'and', 'a', 'of', 'to', 'is', 'in', 'it', 'i',\n",
       "       'this', 'that', 'br', 'was', 'as', 'for', 'with', 'movie', 'but'],\n",
       "      dtype='<U14')"
      ]
     },
     "execution_count": 12,
     "metadata": {},
     "output_type": "execute_result"
    }
   ],
   "source": [
    "## view the first 20 words of the vocabulary\n",
    "vocab = np.array(encoder.get_vocabulary())\n",
    "vocab[:20]"
   ]
  },
  {
   "cell_type": "code",
   "execution_count": 13,
   "metadata": {},
   "outputs": [
    {
     "data": {
      "text/plain": [
       "array([[ 11,  14, 312, ...,   0,   0,   0],\n",
       "       [ 10, 855,   1, ...,   0,   0,   0],\n",
       "       [ 11,  18,  44, ...,   0,   0,   0]])"
      ]
     },
     "execution_count": 13,
     "metadata": {},
     "output_type": "execute_result"
    }
   ],
   "source": [
    "## view the tokens of the first 3 examples of the 1st batch\n",
    "encoded_example = encoder(example)[:3].numpy()\n",
    "encoded_example"
   ]
  },
  {
   "cell_type": "code",
   "execution_count": 14,
   "metadata": {},
   "outputs": [
    {
     "name": "stdout",
     "output_type": "stream",
     "text": [
      "Original:  b\"This was excellent. Touching, action-packed, and perfect for Kurt Russel. I loved this movie, it deserves more than 5.3 or so stars. This movie is the story of an obsolete soldier who learns there is more to life than soldiering, and people who learn that there is a time for fighting, a need to defend. I cried, laughed and mostly sat in awe of this story. Good writing job for an action flick, and the plot was appropriate and fairly solid. The ending wasn't twisty, but it was still excellent. If you like escape from New York, or rooting for the underdog, this movie is for you. Not an undue amount of gore or violence, it was not difficult to watch in that respect. Something for everyone.\"\n",
      "Round-trip:  this was excellent [UNK] [UNK] and perfect for [UNK] [UNK] i loved this movie it deserves more than [UNK] or so stars this movie is the story of an [UNK] [UNK] who [UNK] there is more to life than [UNK] and people who learn that there is a time for fighting a need to [UNK] i [UNK] [UNK] and mostly [UNK] in [UNK] of this story good writing job for an action flick and the plot was [UNK] and fairly [UNK] the ending wasnt [UNK] but it was still excellent if you like [UNK] from new york or [UNK] for the [UNK] this movie is for you not an [UNK] [UNK] of gore or violence it was not difficult to watch in that [UNK] something for everyone                                                                                                                                                                                                                                                                                                                                                                                                                                                                                                                                                                                                                                                     \n",
      "\n",
      "Original:  b\"I expected alot from this movie. Kinda like Lee as a Naustradamous like caracter but instead all I got was a waste of time and a boring movie. I can't even explain this movie. It had wooden acting, terrible script from pieces from the Bible like hurricanes, tidal waves and earthquakes. But that was at the end! The rest of it I had to wait and hope that something meaningfull would happen but it didn't. This movie is about a couple that tries to find out the changes going on in the world like places in China where there was an earthquake and end up at a convent run by eight nuns and a priest. The convent end up being the key to the misshappenings. The whole movie is missleading and boring. One of Lees worst.\"\n",
      "Round-trip:  i expected [UNK] from this movie [UNK] like lee as a [UNK] like [UNK] but instead all i got was a waste of time and a boring movie i cant even [UNK] this movie it had [UNK] acting terrible script from [UNK] from the [UNK] like [UNK] [UNK] [UNK] and [UNK] but that was at the end the rest of it i had to wait and hope that something [UNK] would happen but it didnt this movie is about a couple that tries to find out the [UNK] going on in the world like [UNK] in [UNK] where there was an [UNK] and end up at a [UNK] run by [UNK] [UNK] and a [UNK] the [UNK] end up being the [UNK] to the [UNK] the whole movie is [UNK] and boring one of [UNK] worst                                                                                                                                                                                                                                                                                                                                                                                                                                                                                                                                                                                                                                            \n",
      "\n",
      "Original:  b\"This movie has not aged well. Maybe it's just the impact and artful characterization, acting, and directing that we've seen with The Sopranos, but I just viewed Prizzi's Honor for the first time, on DVD, alone.<br /><br />The experience of watching it with an audience 24 years ago must have been quite different, but I have to say, I was just appalled at the ending. Not just the violence of it, but the mere idea that somehow this would be a satisfying ending.<br /><br />I enjoy a good shocker, but this seemed so out of character... Also, when was this move supposed to be set? The cars all seemed like they were from the 1960s, and yet the World Trade Center towers {completed in 1973} were clearly visible in many cityscape scenes.<br /><br />Another way in which the film has aged poorly is the mere idea that a passenger could travel coast to coast with a knife on his person.<br /><br />Somehow, mid-1980s audiences found this film charming and funny. Mid-eighties, meet the late oughts: only of you can live.\"\n",
      "Round-trip:  this movie has not [UNK] well maybe its just the [UNK] and [UNK] [UNK] acting and directing that [UNK] seen with the [UNK] but i just [UNK] [UNK] [UNK] for the first time on dvd [UNK] br the experience of watching it with an audience [UNK] years ago must have been quite different but i have to say i was just [UNK] at the ending not just the violence of it but the [UNK] idea that somehow this would be a [UNK] [UNK] br i enjoy a good [UNK] but this seemed so out of character also when was this move supposed to be set the [UNK] all seemed like they were from the [UNK] and yet the world [UNK] [UNK] [UNK] [UNK] in [UNK] were clearly [UNK] in many [UNK] [UNK] br another way in which the film has [UNK] poorly is the [UNK] idea that a [UNK] could [UNK] [UNK] to [UNK] with a [UNK] on his [UNK] br somehow [UNK] [UNK] found this film [UNK] and funny [UNK] meet the late [UNK] only of you can live                                                                                                                                                                                                                                                                                                                                                                                                                                                                                                                                                                                                \n",
      "\n"
     ]
    }
   ],
   "source": [
    "for n in range(3):\n",
    "  print(\"Original: \", example[n].numpy())\n",
    "  print(\"Round-trip: \", \" \".join(vocab[encoded_example[n]]))\n",
    "  print()"
   ]
  },
  {
   "cell_type": "code",
   "execution_count": 15,
   "metadata": {},
   "outputs": [],
   "source": [
    "## The sentiment classification model architecture:\n",
    "model = tf.keras.Sequential([\n",
    "    encoder, ## Tokenisation layer that converts a batch of input text to tokens with int values\n",
    "    tf.keras.layers.Embedding( ## A trainable layer that learns to embbed the tokens to a real value distribution\n",
    "        input_dim=len(encoder.get_vocabulary()),\n",
    "        output_dim=64,\n",
    "        # Use masking to handle the variable sequence lengths\n",
    "        mask_zero=True),\n",
    "    tf.keras.layers.Bidirectional(tf.keras.layers.LSTM(64)),\n",
    "    tf.keras.layers.Dense(64, activation='relu'),\n",
    "    tf.keras.layers.Dense(1)\n",
    "])"
   ]
  },
  {
   "cell_type": "code",
   "execution_count": 16,
   "metadata": {},
   "outputs": [
    {
     "name": "stdout",
     "output_type": "stream",
     "text": [
      "[False, True, True, True, True]\n"
     ]
    }
   ],
   "source": [
    "print([layer.supports_masking for layer in model.layers])"
   ]
  },
  {
   "cell_type": "code",
   "execution_count": 22,
   "metadata": {},
   "outputs": [
    {
     "name": "stdout",
     "output_type": "stream",
     "text": [
      "[0.0191545]\n",
      "(None, None, 64)\n"
     ]
    }
   ],
   "source": [
    "# predict on a sample text without padding.\n",
    "\n",
    "sample_text = ('The movie was cool. The animation and the graphics '\n",
    "               'were out of this world. I would recommend this movie.')\n",
    "predictions = model.predict(np.array([sample_text]))\n",
    "print(predictions[0])\n",
    "print(model.layers[1].output_shape)"
   ]
  },
  {
   "cell_type": "code",
   "execution_count": 23,
   "metadata": {},
   "outputs": [],
   "source": [
    "model.compile(loss=tf.keras.losses.BinaryCrossentropy(from_logits=True),\n",
    "              optimizer=tf.keras.optimizers.Adam(1e-4),\n",
    "              metrics=['accuracy'])"
   ]
  },
  {
   "cell_type": "code",
   "execution_count": 24,
   "metadata": {},
   "outputs": [
    {
     "name": "stdout",
     "output_type": "stream",
     "text": [
      "Epoch 1/10\n",
      "391/391 [==============================] - 20s 51ms/step - loss: 0.6432 - accuracy: 0.5747 - val_loss: 0.5174 - val_accuracy: 0.7141\n",
      "Epoch 2/10\n",
      "391/391 [==============================] - 19s 49ms/step - loss: 0.3939 - accuracy: 0.8207 - val_loss: 0.3634 - val_accuracy: 0.8260\n",
      "Epoch 3/10\n",
      "391/391 [==============================] - 19s 48ms/step - loss: 0.3354 - accuracy: 0.8512 - val_loss: 0.3336 - val_accuracy: 0.8521\n",
      "Epoch 4/10\n",
      "391/391 [==============================] - 19s 49ms/step - loss: 0.3179 - accuracy: 0.8625 - val_loss: 0.3276 - val_accuracy: 0.8500\n",
      "Epoch 5/10\n",
      "391/391 [==============================] - 19s 48ms/step - loss: 0.3107 - accuracy: 0.8655 - val_loss: 0.3397 - val_accuracy: 0.8333\n",
      "Epoch 6/10\n",
      "391/391 [==============================] - 19s 48ms/step - loss: 0.3068 - accuracy: 0.8674 - val_loss: 0.3208 - val_accuracy: 0.8568\n",
      "Epoch 7/10\n",
      "391/391 [==============================] - 19s 48ms/step - loss: 0.3048 - accuracy: 0.8682 - val_loss: 0.3300 - val_accuracy: 0.8594\n",
      "Epoch 8/10\n",
      "391/391 [==============================] - 19s 49ms/step - loss: 0.3002 - accuracy: 0.8700 - val_loss: 0.3258 - val_accuracy: 0.8578\n",
      "Epoch 9/10\n",
      "391/391 [==============================] - 19s 48ms/step - loss: 0.2997 - accuracy: 0.8708 - val_loss: 0.3265 - val_accuracy: 0.8484\n",
      "Epoch 10/10\n",
      "391/391 [==============================] - 19s 49ms/step - loss: 0.2974 - accuracy: 0.8712 - val_loss: 0.3263 - val_accuracy: 0.8562\n"
     ]
    }
   ],
   "source": [
    "history = model.fit(train_dataset, epochs=10,\n",
    "                    validation_data=test_dataset, \n",
    "                    validation_steps=30)"
   ]
  },
  {
   "cell_type": "code",
   "execution_count": 25,
   "metadata": {},
   "outputs": [
    {
     "name": "stdout",
     "output_type": "stream",
     "text": [
      "391/391 [==============================] - 8s 21ms/step - loss: 0.3219 - accuracy: 0.8551\n",
      "Test Loss: 0.32191672921180725\n",
      "Test Accuracy: 0.8551200032234192\n"
     ]
    }
   ],
   "source": [
    "test_loss, test_acc = model.evaluate(test_dataset)\n",
    "\n",
    "print('Test Loss: {}'.format(test_loss))\n",
    "print('Test Accuracy: {}'.format(test_acc))"
   ]
  },
  {
   "cell_type": "code",
   "execution_count": 26,
   "metadata": {},
   "outputs": [
    {
     "data": {
      "text/plain": [
       "(0.0, 0.6605073943734169)"
      ]
     },
     "execution_count": 26,
     "metadata": {},
     "output_type": "execute_result"
    },
    {
     "data": {
      "image/png": "[encoded data removed]",
      "text/plain": [
       "<Figure size 1152x576 with 2 Axes>"
      ]
     },
     "metadata": {
      "needs_background": "light"
     },
     "output_type": "display_data"
    }
   ],
   "source": [
    "plt.figure(figsize=(16,8))\n",
    "plt.subplot(1,2,1)\n",
    "plot_graphs(history, 'accuracy')\n",
    "plt.ylim(None,1)\n",
    "plt.subplot(1,2,2)\n",
    "plot_graphs(history, 'loss')\n",
    "plt.ylim(0,None)"
   ]
  },
  {
   "cell_type": "code",
   "execution_count": 28,
   "metadata": {},
   "outputs": [
    {
     "data": {
      "text/plain": [
       "array([[1.0471424]], dtype=float32)"
      ]
     },
     "execution_count": 28,
     "metadata": {},
     "output_type": "execute_result"
    }
   ],
   "source": [
    "## do a prediction\n",
    "sample_text = ('The movie was cool. The animation and the graphics '\n",
    "               'were out of this world. I would recommend this movie.')\n",
    "predictions = model.predict(np.array([sample_text]))\n",
    "predictions"
   ]
  },
  {
   "cell_type": "code",
   "execution_count": null,
   "metadata": {},
   "outputs": [],
   "source": []
  }
 ],
 "metadata": {
  "kernelspec": {
   "display_name": "Python 3",
   "language": "python",
   "name": "python3"
  },
  "language_info": {
   "codemirror_mode": {
    "name": "ipython",
    "version": 3
   },
   "file_extension": ".py",
   "mimetype": "text/x-python",
   "name": "python",
   "nbconvert_exporter": "python",
   "pygments_lexer": "ipython3",
   "version": "3.6.9"
  }
 },
 "nbformat": 4,
 "nbformat_minor": 2
}
