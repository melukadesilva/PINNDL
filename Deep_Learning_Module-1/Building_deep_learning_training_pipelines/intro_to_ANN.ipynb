{
 "cells": [
  {
   "cell_type": "code",
   "execution_count": null,
   "metadata": {},
   "outputs": [],
   "source": [
    "#!pip install numba"
   ]
  },
  {
   "cell_type": "code",
   "execution_count": 84,
   "metadata": {},
   "outputs": [],
   "source": [
    "#### Implementation of ANN with SGD and Backprop\n",
    "#### original OOP implementation can be found at: https://medium.com/binaryandmore/beginners-guide-to-deriving-and-implementing-backpropagation-e3c1a5a1e536\n",
    "import numpy as np\n",
    "import tensorflow as tf\n",
    "import matplotlib.pyplot as plt"
   ]
  },
  {
   "cell_type": "code",
   "execution_count": 85,
   "metadata": {},
   "outputs": [],
   "source": [
    "## layer:\n",
    "## take input X: (Nx1)\n",
    "## multiply by weights W: (h1xN)\n",
    "## add bias b: (h1x1)\n",
    "def layer(X, W, b): return np.dot(W, X) + b"
   ]
  },
  {
   "cell_type": "code",
   "execution_count": 86,
   "metadata": {},
   "outputs": [],
   "source": [
    "## lets take the activation as sigmoid (element-wise)\n",
    "def sigmoid(x): return 1 / (1 + np.exp(-x))"
   ]
  },
  {
   "cell_type": "code",
   "execution_count": 87,
   "metadata": {},
   "outputs": [],
   "source": [
    "## lets define the derivative of the sigmoid\n",
    "def sigmoid_prime(x): return sigmoid(x)*(1.0 - sigmoid(x))"
   ]
  },
  {
   "cell_type": "code",
   "execution_count": 88,
   "metadata": {},
   "outputs": [],
   "source": [
    "## define the mse cost per sample\n",
    "def mse(y_pred, y_true): return (1 / 2) * np.square(y_pred - y_true)"
   ]
  },
  {
   "cell_type": "code",
   "execution_count": 89,
   "metadata": {},
   "outputs": [],
   "source": [
    "## derivative of mse\n",
    "def mse_prime(y_pred, y_true): return (y_pred - y_true)"
   ]
  },
  {
   "cell_type": "code",
   "execution_count": 90,
   "metadata": {},
   "outputs": [],
   "source": [
    "## NN parameters\n",
    "N = 50\n",
    "num_nes = [N, 40, 30, 20, 10]\n",
    "num_layers = len(num_nes) - 1\n",
    "learning_rate = 0.01\n",
    "num_epochs = 1000\n",
    "num_data_samples = 100\n",
    "\n",
    "## dict to hold neuron input-output pairs\n",
    "layer_in_out_dict = dict()\n",
    "## dict to hold the cost derivatives w.r.t to the params\n",
    "layer_derivative_dict = dict()"
   ]
  },
  {
   "cell_type": "code",
   "execution_count": 91,
   "metadata": {},
   "outputs": [],
   "source": [
    "## the dict to hold the layer weights and biases\n",
    "weight_dict = {'w'+str(i): np.random.normal(size=(num_nes[i+1], num_nes[i])) for i in range(num_layers)}\n",
    "bias_dict = {'b'+str(i): np.random.normal(size=(num_nes[i+1], 1)) for i in range(num_layers)}"
   ]
  },
  {
   "cell_type": "code",
   "execution_count": 92,
   "metadata": {},
   "outputs": [],
   "source": [
    "def NN(inputs):\n",
    "    a = inputs\n",
    "    layer_in_out_dict['a0'] = a\n",
    "    ## forward pass\n",
    "    for i in range(num_layers):\n",
    "        #print(i)\n",
    "        z = layer(a, weight_dict['w'+str(i)], bias_dict['b'+str(i)])\n",
    "        a = sigmoid(z)\n",
    "        layer_in_out_dict['z'+str(i)] = z\n",
    "        layer_in_out_dict['a'+str(i+1)] = a\n",
    "    out = a\n",
    "    return out"
   ]
  },
  {
   "cell_type": "code",
   "execution_count": 93,
   "metadata": {},
   "outputs": [
    {
     "name": "stdout",
     "output_type": "stream",
     "text": [
      "0.05846055756496118\n"
     ]
    },
    {
     "name": "stderr",
     "output_type": "stream",
     "text": [
      "/usr/local/lib/python3.6/dist-packages/ipykernel_launcher.py:2: RuntimeWarning: overflow encountered in exp\n",
      "  \n"
     ]
    }
   ],
   "source": [
    "## Test the NN with a dummy forward pass\n",
    "inp = np.random.uniform(0, 1, size=(N,1)) * 255.0\n",
    "out_true = np.random.uniform(0, 1, size=(num_nes[-1], 1))\n",
    "out = NN(inp)\n",
    "error = mse(out, out_true)\n",
    "print(np.mean(error))"
   ]
  },
  {
   "cell_type": "code",
   "execution_count": 94,
   "metadata": {},
   "outputs": [],
   "source": [
    "## Function to perform model prediction\n",
    "def predict(inputs): return NN(inputs)"
   ]
  },
  {
   "cell_type": "code",
   "execution_count": 95,
   "metadata": {},
   "outputs": [],
   "source": [
    "def compute_grads(inputs, targets):\n",
    "    ## perform a forward pass (prediction)\n",
    "    out = predict(inputs)\n",
    "    ## Compute dC/dzL, dC/dwL and dC/dbL\n",
    "    ## first dC/dzL = (a - y) * a * (1 - a)\n",
    "    layer_derivative_dict['dz'+str(num_layers-1)] = mse_prime(out, targets) * out * (1 - out)\n",
    "    ## second compute the dC/dwL = dC/dzL * dzL/dwL\n",
    "    #print(layer_derivative_dict['dz'+str(num_layers-1)].shape)\n",
    "    #print(layer_in_out_dict['a'+str(num_layers-1)].shape)\n",
    "    layer_derivative_dict['dw'+str(num_layers-1)] = np.dot(layer_derivative_dict['dz'+str(num_layers-1)], \\\n",
    "                                                    np.transpose(layer_in_out_dict['a'+str(num_layers-1)]))\n",
    "    ## third calculate the dC/dbL = dC/dzL * dzL/dbL\n",
    "    layer_derivative_dict['db'+str(num_layers-1)] = layer_derivative_dict['dz'+str(num_layers-1)] * 1\n",
    "    \n",
    "    ## Now since we have the derivatives at the output layer, we can calculate the derivatives for the rest of the \n",
    "    ## layers\n",
    "    for i in reversed(range(num_layers-1)):\n",
    "        #print(i)\n",
    "        ## first compute dC/dzl = [w(l+1)*dC/dz(l+1)]*sigmoid_prime(zl)\n",
    "        layer_derivative_dict['dz'+str(i)] = np.dot(\n",
    "                                                np.transpose(weight_dict['w'+str(i+1)]), layer_derivative_dict['dz'+str(i+1)]) \\\n",
    "                                                * sigmoid_prime(layer_in_out_dict['z'+str(i)])\n",
    "        ## second compute dC/dwl = dC/dzl * dzl/dwl\n",
    "        layer_derivative_dict['dw'+str(i)] = layer_derivative_dict['dz'+str(i)] * \\\n",
    "                                                    np.transpose(layer_in_out_dict['a'+str(i)])\n",
    "        \n",
    "        ## third compute dC/dbl = dC/dzl * dzl/dbl\n",
    "        layer_derivative_dict['db'+str(i)] = layer_derivative_dict['dz'+str(i)] * 1"
   ]
  },
  {
   "cell_type": "code",
   "execution_count": 96,
   "metadata": {},
   "outputs": [
    {
     "name": "stderr",
     "output_type": "stream",
     "text": [
      "/usr/local/lib/python3.6/dist-packages/ipykernel_launcher.py:2: RuntimeWarning: overflow encountered in exp\n",
      "  \n"
     ]
    }
   ],
   "source": [
    "## test the gradient computation \n",
    "compute_grads(inp, out_true)\n",
    "#print(layer_derivative_dict)"
   ]
  },
  {
   "cell_type": "code",
   "execution_count": 97,
   "metadata": {},
   "outputs": [],
   "source": [
    "def update_param():\n",
    "    for i in range(num_layers):\n",
    "        weight_dict['w'+str(i)] = weight_dict['w'+str(i)] - learning_rate * layer_derivative_dict['dw'+str(i)]\n",
    "        bias_dict['b'+str(i)] = bias_dict['b'+str(i)] - learning_rate * layer_derivative_dict['db'+str(i)]"
   ]
  },
  {
   "cell_type": "code",
   "execution_count": 98,
   "metadata": {},
   "outputs": [],
   "source": [
    "## test param update function\n",
    "update_param()"
   ]
  },
  {
   "cell_type": "code",
   "execution_count": 99,
   "metadata": {},
   "outputs": [],
   "source": [
    "## make a dummy training dataset\n",
    "inp_data = np.random.normal(size=(num_data_samples, num_nes[0]))\n",
    "out_true_data = np.random.normal(size=(num_data_samples, num_nes[-1]))\n",
    "#print(training_data)"
   ]
  },
  {
   "cell_type": "code",
   "execution_count": 100,
   "metadata": {},
   "outputs": [],
   "source": [
    "mean_epoch_error_list = list()\n",
    "for e in range(num_epochs):\n",
    "    epoch_loss_list = list()\n",
    "    for i in range(num_data_samples):\n",
    "        inp = np.expand_dims(inp_data[i], 1)\n",
    "        out_true = np.expand_dims(out_true_data[i], 1)\n",
    "        #print(inp.shape)\n",
    "        compute_grads(inp, out_true)\n",
    "        update_param()\n",
    "        out = predict(inp)\n",
    "        error = np.mean(mse(out, out_true))\n",
    "        epoch_loss_list.append(error)\n",
    "    mean_epoch_error = np.mean(np.array(epoch_loss_list))\n",
    "    mean_epoch_error_list.append(mean_epoch_error)\n",
    "    #print(\"Epoch loss: {}\".format(mean_epoch_error))"
   ]
  },
  {
   "cell_type": "code",
   "execution_count": 101,
   "metadata": {},
   "outputs": [
    {
     "data": {
      "text/plain": [
       "[<matplotlib.lines.Line2D at 0x7f4a29fb0080>]"
      ]
     },
     "execution_count": 101,
     "metadata": {},
     "output_type": "execute_result"
    },
    {
     "data": {
      "image/png": "[encoded data removed]",
      "text/plain": [
       "<Figure size 432x288 with 1 Axes>"
      ]
     },
     "metadata": {
      "needs_background": "light"
     },
     "output_type": "display_data"
    }
   ],
   "source": [
    "## Plot the model performance\n",
    "plt.plot(np.arange(0, num_epochs, 1), mean_epoch_error_list)"
   ]
  },
  {
   "cell_type": "code",
   "execution_count": 102,
   "metadata": {},
   "outputs": [
    {
     "name": "stdout",
     "output_type": "stream",
     "text": [
      "0.007408125748201245\n"
     ]
    }
   ],
   "source": [
    "print(np.max(layer_derivative_dict['dw3']))"
   ]
  },
  {
   "cell_type": "code",
   "execution_count": 103,
   "metadata": {},
   "outputs": [],
   "source": [
    "#### MNIST EXAMPLE ####"
   ]
  },
  {
   "cell_type": "code",
   "execution_count": 104,
   "metadata": {},
   "outputs": [],
   "source": [
    "## load mnist data\n",
    "mnist = tf.keras.datasets.mnist\n",
    "(train_images, train_labels), (test_images, test_labels) = mnist.load_data()\n",
    "train_images = train_images / 255.0\n",
    "test_images = test_images / 255.0\n",
    "#print(train_images.shape)\n",
    "#print(train_labels.shape)"
   ]
  },
  {
   "cell_type": "code",
   "execution_count": 105,
   "metadata": {},
   "outputs": [],
   "source": [
    "## make a mlp to process them\n",
    "N = 784\n",
    "num_nes = [N, 40, 30, 20, 10]\n",
    "num_layers = len(num_nes) - 1\n",
    "learning_rate = 0.01\n",
    "num_epochs = 10\n",
    "threshold = 0.5"
   ]
  },
  {
   "cell_type": "code",
   "execution_count": 106,
   "metadata": {},
   "outputs": [],
   "source": [
    "## initialize the layer derivative and in out dicts\n",
    "## dict to hold neuron input-output pairs\n",
    "layer_in_out_dict = dict()\n",
    "## dict to hold the cost derivatives w.r.t to the params\n",
    "layer_derivative_dict = dict()\n",
    "## Initialize the weights\n",
    "## the dict to hold the layer weights and biases\n",
    "weight_dict = {'w'+str(i): np.random.normal(size=(num_nes[i+1], num_nes[i])) for i in range(num_layers)}\n",
    "bias_dict = {'b'+str(i): np.random.normal(size=(num_nes[i+1], 1)) for i in range(num_layers)}"
   ]
  },
  {
   "cell_type": "code",
   "execution_count": 107,
   "metadata": {},
   "outputs": [],
   "source": [
    "def onehot(label):\n",
    "    ## make an empty vector\n",
    "    onehot_label = np.zeros((num_nes[-1], 1))\n",
    "    onehot_label[label] = 1\n",
    "    return onehot_label"
   ]
  },
  {
   "cell_type": "code",
   "execution_count": 108,
   "metadata": {},
   "outputs": [],
   "source": [
    "def infer(inputs):\n",
    "    pred_list = list()\n",
    "    for i in range(inputs.shape[0]):\n",
    "        inp = np.expand_dims(inputs[i].flatten(), 1)\n",
    "        #print(inp.shape)\n",
    "        pred = predict(inp)\n",
    "        #print(pred.shape)\n",
    "        pred_list.append(np.swapaxes(pred, 0, 1))\n",
    "    #print(np.array(pred_list).shape)\n",
    "    return np.squeeze(np.swapaxes(np.array(pred_list), 0, 1), 0)"
   ]
  },
  {
   "cell_type": "code",
   "execution_count": 109,
   "metadata": {},
   "outputs": [],
   "source": [
    "def accuracy(preds, target, is_validation=False):\n",
    "    ## threshold the predictions to 0,1\n",
    "    #print(targets.shape)\n",
    "    #print(preds > 0.1)\n",
    "    positive_preds = 0\n",
    "    for i in range(preds.shape[1]):\n",
    "        ## current pred boolean\n",
    "        if is_validation:\n",
    "            pred = preds[i][target[i]] > threshold\n",
    "        else:\n",
    "            pred = preds[target] > threshold\n",
    "        if pred:\n",
    "            positive_preds += 1\n",
    "    return positive_preds / preds.shape[1]"
   ]
  },
  {
   "cell_type": "code",
   "execution_count": 110,
   "metadata": {},
   "outputs": [
    {
     "name": "stdout",
     "output_type": "stream",
     "text": [
      "Epoch loss: 0.038920940763920484\n",
      "Train accuracy: 12.768333333333334\n",
      "Test accuracy: 40.0\n",
      "\n",
      "Epoch loss: 0.026755131825060497\n",
      "Train accuracy: 37.861666666666665\n",
      "Test accuracy: 50.0\n",
      "\n",
      "Epoch loss: 0.020553479283380954\n",
      "Train accuracy: 56.96\n",
      "Test accuracy: 50.0\n",
      "\n",
      "Epoch loss: 0.016552841294468833\n",
      "Train accuracy: 68.49\n",
      "Test accuracy: 60.0\n",
      "\n",
      "Epoch loss: 0.01379588743066835\n",
      "Train accuracy: 75.49666666666667\n",
      "Test accuracy: 80.0\n",
      "\n",
      "Epoch loss: 0.011877207038970074\n",
      "Train accuracy: 79.50833333333334\n",
      "Test accuracy: 80.0\n",
      "\n",
      "Epoch loss: 0.010567017109714912\n",
      "Train accuracy: 82.03833333333334\n",
      "Test accuracy: 80.0\n",
      "\n",
      "Epoch loss: 0.009646793883170612\n",
      "Train accuracy: 83.75\n",
      "Test accuracy: 80.0\n",
      "\n",
      "Epoch loss: 0.008964581949406497\n",
      "Train accuracy: 85.0\n",
      "Test accuracy: 80.0\n",
      "\n",
      "Epoch loss: 0.00843017213130617\n",
      "Train accuracy: 85.95333333333333\n",
      "Test accuracy: 80.0\n",
      "\n"
     ]
    }
   ],
   "source": [
    "mean_epoch_error_list = list()\n",
    "mean_epoch_train_accuracy_list = list()\n",
    "mean_epoch_test_accuracy_list = list()\n",
    "for e in range(num_epochs):\n",
    "    epoch_loss_list = list()\n",
    "    train_epoch_accuracy_list = list()\n",
    "    for i in range(train_images.shape[0]):\n",
    "        inp = np.expand_dims(train_images[i].flatten(), 1)\n",
    "        #print(inp.shape)\n",
    "        out_true = onehot(train_labels[i])\n",
    "        #print(out_true.shape)\n",
    "        compute_grads(inp, out_true)\n",
    "        update_param()\n",
    "        out = predict(inp)\n",
    "        error = np.mean(mse(out, out_true))\n",
    "        epoch_loss_list.append(error)\n",
    "        train_sample_accuracy = accuracy(out, train_labels[i])\n",
    "        train_epoch_accuracy_list.append(train_sample_accuracy)\n",
    "    \n",
    "    mean_epoch_error = np.mean(np.array(epoch_loss_list))\n",
    "    mean_epoch_error_list.append(mean_epoch_error)\n",
    "\n",
    "    mean_epoch_train_accuracy = np.mean(np.array(train_epoch_accuracy_list))\n",
    "    mean_epoch_train_accuracy_list.append(mean_epoch_train_accuracy)\n",
    "    print(\"Epoch loss: {}\".format(mean_epoch_error))\n",
    "    print(\"Train accuracy: {}\".format(mean_epoch_train_accuracy * 100.0))\n",
    "    \n",
    "    ## do a validation and get the accuracy\n",
    "    test_preds = infer(test_images)\n",
    "    #print(test_preds.shape)\n",
    "    test_accuracy = accuracy(test_preds, test_labels, is_validation=True)\n",
    "    mean_epoch_test_accuracy_list.append(test_accuracy)\n",
    "    print(\"Test accuracy: {}\".format(test_accuracy * 100.0))\n",
    "    print(\"\")"
   ]
  },
  {
   "cell_type": "code",
   "execution_count": 111,
   "metadata": {},
   "outputs": [
    {
     "name": "stdout",
     "output_type": "stream",
     "text": [
      "Neuron ID: 1, number of zero gradients: 784 out of 784\n",
      "Neuron ID: 2, number of zero gradients: 641 out of 784\n",
      "Neuron ID: 3, number of zero gradients: 784 out of 784\n",
      "Neuron ID: 4, number of zero gradients: 784 out of 784\n",
      "Neuron ID: 5, number of zero gradients: 784 out of 784\n",
      "Neuron ID: 6, number of zero gradients: 784 out of 784\n",
      "Neuron ID: 7, number of zero gradients: 641 out of 784\n",
      "Neuron ID: 8, number of zero gradients: 784 out of 784\n",
      "Neuron ID: 9, number of zero gradients: 641 out of 784\n",
      "Neuron ID: 10, number of zero gradients: 784 out of 784\n",
      "Neuron ID: 11, number of zero gradients: 641 out of 784\n",
      "Neuron ID: 12, number of zero gradients: 641 out of 784\n",
      "Neuron ID: 13, number of zero gradients: 731 out of 784\n",
      "Neuron ID: 14, number of zero gradients: 724 out of 784\n",
      "Neuron ID: 15, number of zero gradients: 641 out of 784\n",
      "Neuron ID: 16, number of zero gradients: 641 out of 784\n",
      "Neuron ID: 17, number of zero gradients: 784 out of 784\n",
      "Neuron ID: 18, number of zero gradients: 784 out of 784\n",
      "Neuron ID: 19, number of zero gradients: 784 out of 784\n",
      "Neuron ID: 20, number of zero gradients: 784 out of 784\n",
      "Neuron ID: 21, number of zero gradients: 784 out of 784\n",
      "Neuron ID: 22, number of zero gradients: 784 out of 784\n",
      "Neuron ID: 23, number of zero gradients: 784 out of 784\n",
      "Neuron ID: 24, number of zero gradients: 646 out of 784\n",
      "Neuron ID: 25, number of zero gradients: 784 out of 784\n",
      "Neuron ID: 26, number of zero gradients: 758 out of 784\n",
      "Neuron ID: 27, number of zero gradients: 784 out of 784\n",
      "Neuron ID: 28, number of zero gradients: 641 out of 784\n",
      "Neuron ID: 29, number of zero gradients: 641 out of 784\n",
      "Neuron ID: 30, number of zero gradients: 641 out of 784\n",
      "Neuron ID: 31, number of zero gradients: 641 out of 784\n",
      "Neuron ID: 32, number of zero gradients: 784 out of 784\n",
      "Neuron ID: 33, number of zero gradients: 641 out of 784\n",
      "Neuron ID: 34, number of zero gradients: 641 out of 784\n",
      "Neuron ID: 35, number of zero gradients: 641 out of 784\n",
      "Neuron ID: 36, number of zero gradients: 784 out of 784\n",
      "Neuron ID: 37, number of zero gradients: 641 out of 784\n",
      "Neuron ID: 38, number of zero gradients: 641 out of 784\n",
      "Neuron ID: 39, number of zero gradients: 641 out of 784\n",
      "Neuron ID: 40, number of zero gradients: 784 out of 784\n",
      "\n",
      "Neuron ID: 1, number of zero gradients: 2 out of 40\n",
      "Neuron ID: 2, number of zero gradients: 2 out of 40\n",
      "Neuron ID: 3, number of zero gradients: 4 out of 40\n",
      "Neuron ID: 4, number of zero gradients: 40 out of 40\n",
      "Neuron ID: 5, number of zero gradients: 40 out of 40\n",
      "Neuron ID: 6, number of zero gradients: 3 out of 40\n",
      "Neuron ID: 7, number of zero gradients: 2 out of 40\n",
      "Neuron ID: 8, number of zero gradients: 40 out of 40\n",
      "Neuron ID: 9, number of zero gradients: 2 out of 40\n",
      "Neuron ID: 10, number of zero gradients: 40 out of 40\n",
      "Neuron ID: 11, number of zero gradients: 40 out of 40\n",
      "Neuron ID: 12, number of zero gradients: 2 out of 40\n",
      "Neuron ID: 13, number of zero gradients: 2 out of 40\n",
      "Neuron ID: 14, number of zero gradients: 40 out of 40\n",
      "Neuron ID: 15, number of zero gradients: 40 out of 40\n",
      "Neuron ID: 16, number of zero gradients: 2 out of 40\n",
      "Neuron ID: 17, number of zero gradients: 2 out of 40\n",
      "Neuron ID: 18, number of zero gradients: 40 out of 40\n",
      "Neuron ID: 19, number of zero gradients: 3 out of 40\n",
      "Neuron ID: 20, number of zero gradients: 2 out of 40\n",
      "Neuron ID: 21, number of zero gradients: 2 out of 40\n",
      "Neuron ID: 22, number of zero gradients: 40 out of 40\n",
      "Neuron ID: 23, number of zero gradients: 2 out of 40\n",
      "Neuron ID: 24, number of zero gradients: 2 out of 40\n",
      "Neuron ID: 25, number of zero gradients: 40 out of 40\n",
      "Neuron ID: 26, number of zero gradients: 40 out of 40\n",
      "Neuron ID: 27, number of zero gradients: 2 out of 40\n",
      "Neuron ID: 28, number of zero gradients: 40 out of 40\n",
      "Neuron ID: 29, number of zero gradients: 40 out of 40\n",
      "Neuron ID: 30, number of zero gradients: 40 out of 40\n",
      "\n",
      "Neuron ID: 1, number of zero gradients: 30 out of 30\n",
      "Neuron ID: 2, number of zero gradients: 30 out of 30\n",
      "Neuron ID: 3, number of zero gradients: 0 out of 30\n",
      "Neuron ID: 4, number of zero gradients: 30 out of 30\n",
      "Neuron ID: 5, number of zero gradients: 0 out of 30\n",
      "Neuron ID: 6, number of zero gradients: 0 out of 30\n",
      "Neuron ID: 7, number of zero gradients: 0 out of 30\n",
      "Neuron ID: 8, number of zero gradients: 30 out of 30\n",
      "Neuron ID: 9, number of zero gradients: 30 out of 30\n",
      "Neuron ID: 10, number of zero gradients: 30 out of 30\n",
      "Neuron ID: 11, number of zero gradients: 30 out of 30\n",
      "Neuron ID: 12, number of zero gradients: 30 out of 30\n",
      "Neuron ID: 13, number of zero gradients: 0 out of 30\n",
      "Neuron ID: 14, number of zero gradients: 0 out of 30\n",
      "Neuron ID: 15, number of zero gradients: 30 out of 30\n",
      "Neuron ID: 16, number of zero gradients: 0 out of 30\n",
      "Neuron ID: 17, number of zero gradients: 30 out of 30\n",
      "Neuron ID: 18, number of zero gradients: 0 out of 30\n",
      "Neuron ID: 19, number of zero gradients: 0 out of 30\n",
      "Neuron ID: 20, number of zero gradients: 30 out of 30\n",
      "\n",
      "Neuron ID: 1, number of zero gradients: 0 out of 20\n",
      "Neuron ID: 2, number of zero gradients: 0 out of 20\n",
      "Neuron ID: 3, number of zero gradients: 0 out of 20\n",
      "Neuron ID: 4, number of zero gradients: 0 out of 20\n",
      "Neuron ID: 5, number of zero gradients: 0 out of 20\n",
      "Neuron ID: 6, number of zero gradients: 0 out of 20\n",
      "Neuron ID: 7, number of zero gradients: 0 out of 20\n",
      "Neuron ID: 8, number of zero gradients: 0 out of 20\n",
      "Neuron ID: 9, number of zero gradients: 20 out of 20\n",
      "Neuron ID: 10, number of zero gradients: 0 out of 20\n",
      "\n"
     ]
    }
   ],
   "source": [
    "for j in range(len(num_nes)-1):\n",
    "    for i, val in enumerate(layer_derivative_dict['dw'+str(j)]):\n",
    "        #print(val)\n",
    "        #print(i+1)\n",
    "        ## count the neurons which has zero gradient\n",
    "        zero_grads = len(list(filter(lambda x: True if x < 1e-10 else False, val)))\n",
    "        print(\"Neuron ID: {}, number of zero gradients: {} out of {}\".format(i+1, zero_grads, len(val)))\n",
    "    print()"
   ]
  },
  {
   "cell_type": "code",
   "execution_count": 112,
   "metadata": {},
   "outputs": [
    {
     "data": {
      "text/plain": [
       "[<matplotlib.lines.Line2D at 0x7f4a280ebcf8>]"
      ]
     },
     "execution_count": 112,
     "metadata": {},
     "output_type": "execute_result"
    },
    {
     "data": {
      "image/png": "[encoded data removed]",
      "text/plain": [
       "<Figure size 432x288 with 1 Axes>"
      ]
     },
     "metadata": {
      "needs_background": "light"
     },
     "output_type": "display_data"
    }
   ],
   "source": [
    "plt.plot(np.arange(0, num_epochs, 1), mean_epoch_error_list)"
   ]
  },
  {
   "cell_type": "code",
   "execution_count": 113,
   "metadata": {},
   "outputs": [
    {
     "data": {
      "text/plain": [
       "[<matplotlib.lines.Line2D at 0x7f4a281fe860>]"
      ]
     },
     "execution_count": 113,
     "metadata": {},
     "output_type": "execute_result"
    },
    {
     "data": {
      "image/png": "[encoded data removed]",
      "text/plain": [
       "<Figure size 432x288 with 1 Axes>"
      ]
     },
     "metadata": {
      "needs_background": "light"
     },
     "output_type": "display_data"
    }
   ],
   "source": [
    "plt.plot(np.arange(0, num_epochs, 1), mean_epoch_train_accuracy_list)"
   ]
  },
  {
   "cell_type": "code",
   "execution_count": 114,
   "metadata": {},
   "outputs": [
    {
     "data": {
      "text/plain": [
       "[<matplotlib.lines.Line2D at 0x7f4a281df8d0>]"
      ]
     },
     "execution_count": 114,
     "metadata": {},
     "output_type": "execute_result"
    },
    {
     "data": {
      "image/png": "[encoded data removed]",
      "text/plain": [
       "<Figure size 432x288 with 1 Axes>"
      ]
     },
     "metadata": {
      "needs_background": "light"
     },
     "output_type": "display_data"
    }
   ],
   "source": [
    "plt.plot(np.arange(0, num_epochs, 1), mean_epoch_test_accuracy_list)"
   ]
  },
  {
   "cell_type": "code",
   "execution_count": 115,
   "metadata": {},
   "outputs": [
    {
     "data": {
      "text/plain": [
       "[<matplotlib.lines.Line2D at 0x7f4a28153358>]"
      ]
     },
     "execution_count": 115,
     "metadata": {},
     "output_type": "execute_result"
    },
    {
     "data": {
      "image/png": "[encoded data removed]",
      "text/plain": [
       "<Figure size 432x288 with 1 Axes>"
      ]
     },
     "metadata": {
      "needs_background": "light"
     },
     "output_type": "display_data"
    }
   ],
   "source": [
    "## check the sigmoid prime\n",
    "X = np.arange(-10, 10, 0.01)\n",
    "sp = list(map(lambda x: sigmoid_prime(x), X))\n",
    "plt.plot(X, sp)"
   ]
  },
  {
   "cell_type": "code",
   "execution_count": null,
   "metadata": {},
   "outputs": [],
   "source": []
  }
 ],
 "metadata": {
  "kernelspec": {
   "display_name": "Python 3",
   "language": "python",
   "name": "python3"
  },
  "language_info": {
   "codemirror_mode": {
    "name": "ipython",
    "version": 3
   },
   "file_extension": ".py",
   "mimetype": "text/x-python",
   "name": "python",
   "nbconvert_exporter": "python",
   "pygments_lexer": "ipython3",
   "version": "3.6.9"
  }
 },
 "nbformat": 4,
 "nbformat_minor": 2
}
