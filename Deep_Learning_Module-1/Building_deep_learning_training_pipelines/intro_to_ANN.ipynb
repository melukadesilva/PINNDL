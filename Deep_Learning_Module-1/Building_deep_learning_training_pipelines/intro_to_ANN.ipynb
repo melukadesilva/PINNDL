{
 "cells": [
  {
   "cell_type": "code",
   "execution_count": 2,
   "metadata": {},
   "outputs": [],
   "source": [
    "#### Implementation of ANN with SGD and Backprop\n",
    "#### original OOP implementation can be found at: https://medium.com/binaryandmore/beginners-guide-to-deriving-and-implementing-backpropagation-e3c1a5a1e536\n",
    "import numpy as np\n",
    "import matplotlib.pyplot as plt"
   ]
  },
  {
   "cell_type": "code",
   "execution_count": 3,
   "metadata": {},
   "outputs": [],
   "source": [
    "## layer:\n",
    "## take input X: (Nx1)\n",
    "## multiply by weights W: (h1xN)\n",
    "## add bias b: (h1x1)\n",
    "def layer(X, W, b): return np.dot(W, X) + b"
   ]
  },
  {
   "cell_type": "code",
   "execution_count": 4,
   "metadata": {},
   "outputs": [],
   "source": [
    "## lets take the activation as sigmoid (element-wise)\n",
    "def sigmoid(x): return 1 / (1 + np.exp(-x))"
   ]
  },
  {
   "cell_type": "code",
   "execution_count": 5,
   "metadata": {},
   "outputs": [],
   "source": [
    "## lets define the derivative of the sigmoid\n",
    "def sigmoid_prime(x): return sigmoid(x)*(1.0 - sigmoid(x))"
   ]
  },
  {
   "cell_type": "code",
   "execution_count": 6,
   "metadata": {},
   "outputs": [],
   "source": [
    "## define the mse cost per sample\n",
    "def mse(y_pred, y_true): return (1 / 2) * np.square(y_pred - y_true)"
   ]
  },
  {
   "cell_type": "code",
   "execution_count": 7,
   "metadata": {},
   "outputs": [],
   "source": [
    "## derivative of mse\n",
    "def mse_prime(y_pred, y_true): return (y_pred - y_true)"
   ]
  },
  {
   "cell_type": "code",
   "execution_count": 8,
   "metadata": {},
   "outputs": [],
   "source": [
    "## NN parameters\n",
    "N = 50\n",
    "num_nes = [N, 40, 30, 10]\n",
    "num_layers = len(num_nes) - 1\n",
    "learning_rate = 0.01\n",
    "num_epochs = 1000\n",
    "num_data_samples = 100\n",
    "\n",
    "## dict to hold neuron input-output pairs\n",
    "layer_in_out_dict = dict()\n",
    "## dict to hold the cost derivatives w.r.t to the params\n",
    "layer_derivative_dict = dict()"
   ]
  },
  {
   "cell_type": "code",
   "execution_count": 9,
   "metadata": {},
   "outputs": [],
   "source": [
    "## the dict to hold the layer weights and biases\n",
    "weight_dict = {'w'+str(i): np.random.normal(size=(num_nes[i+1], num_nes[i])) for i in range(num_layers)}\n",
    "bias_dict = {'b'+str(i): np.random.normal(size=(num_nes[i+1], 1)) for i in range(num_layers)}"
   ]
  },
  {
   "cell_type": "code",
   "execution_count": 10,
   "metadata": {},
   "outputs": [],
   "source": [
    "def NN(inputs):\n",
    "    a = inputs\n",
    "    layer_in_out_dict['a0'] = a\n",
    "    ## forward pass\n",
    "    for i in range(num_layers):\n",
    "        #print(i)\n",
    "        z = layer(a, weight_dict['w'+str(i)], bias_dict['b'+str(i)])\n",
    "        a = sigmoid(z)\n",
    "        layer_in_out_dict['z'+str(i)] = z\n",
    "        layer_in_out_dict['a'+str(i+1)] = a\n",
    "    out = a\n",
    "    return out"
   ]
  },
  {
   "cell_type": "code",
   "execution_count": 11,
   "metadata": {},
   "outputs": [
    {
     "name": "stdout",
     "output_type": "stream",
     "text": [
      "0.12436932398603588\n"
     ]
    }
   ],
   "source": [
    "## Test the NN with a dummy forward pass\n",
    "inp = np.random.uniform(0, 1, size=(N,1))\n",
    "out_true = np.random.uniform(0, 1, size=(num_nes[-1], 1))\n",
    "out = NN(inp)\n",
    "error = mse(out, out_true)\n",
    "print(np.mean(error))"
   ]
  },
  {
   "cell_type": "code",
   "execution_count": 12,
   "metadata": {},
   "outputs": [],
   "source": [
    "## Function to perform model prediction\n",
    "def predict(inputs): return NN(inputs)"
   ]
  },
  {
   "cell_type": "code",
   "execution_count": 13,
   "metadata": {},
   "outputs": [],
   "source": [
    "def compute_grads(inputs, targets):\n",
    "    ## perform a forward pass (prediction)\n",
    "    out = predict(inputs)\n",
    "    ## Compute dC/dzL, dC/dwL and dC/dbL\n",
    "    ## first dC/dzL = (a - y) * a * (1 - a)\n",
    "    layer_derivative_dict['dz'+str(num_layers-1)] = mse_prime(out, targets) * out * (1 - out)\n",
    "    ## second compute the dC/dwL = dC/dzL * dzL/dwL\n",
    "    #print(layer_derivative_dict['dz'+str(num_layers-1)].shape)\n",
    "    #print(layer_in_out_dict['a'+str(num_layers-1)].shape)\n",
    "    layer_derivative_dict['dw'+str(num_layers-1)] = np.dot(layer_derivative_dict['dz'+str(num_layers-1)], \\\n",
    "                                                    np.transpose(layer_in_out_dict['a'+str(num_layers-1)]))\n",
    "    ## third calculate the dC/dbL = dC/dzL * dzL/dbL\n",
    "    layer_derivative_dict['db'+str(num_layers-1)] = layer_derivative_dict['dz'+str(num_layers-1)] * 1\n",
    "    \n",
    "    ## Now since we have the derivatives at the output layer, we can calculate the derivatives for the rest of the \n",
    "    ## layers\n",
    "    for i in reversed(range(num_layers-1)):\n",
    "        #print(i)\n",
    "        ## first compute dC/dzl = [w(l+1)*dC/dz(l+1)]*sigmoid_prime(zl)\n",
    "        layer_derivative_dict['dz'+str(i)] = np.dot(\n",
    "                                                np.transpose(weight_dict['w'+str(i+1)]), layer_derivative_dict['dz'+str(i+1)]) \\\n",
    "                                                * sigmoid_prime(layer_in_out_dict['z'+str(i)])\n",
    "        ## second compute dC/dwl = dC/dzl * dzl/dwl\n",
    "        layer_derivative_dict['dw'+str(i)] = layer_derivative_dict['dz'+str(i)] * \\\n",
    "                                                    np.transpose(layer_in_out_dict['a'+str(i)])\n",
    "        \n",
    "        ## third compute dC/dbl = dC/dzl * dzl/dbl\n",
    "        layer_derivative_dict['db'+str(i)] = layer_derivative_dict['dz'+str(i)] * 1"
   ]
  },
  {
   "cell_type": "code",
   "execution_count": 14,
   "metadata": {},
   "outputs": [],
   "source": [
    "## test the gradient computation \n",
    "compute_grads(inp, out_true)\n",
    "#print(layer_derivative_dict)"
   ]
  },
  {
   "cell_type": "code",
   "execution_count": 15,
   "metadata": {},
   "outputs": [],
   "source": [
    "def update_param():\n",
    "    for i in range(num_layers):\n",
    "        weight_dict['w'+str(i)] = weight_dict['w'+str(i)] - learning_rate * layer_derivative_dict['dw'+str(i)]\n",
    "        bias_dict['b'+str(i)] = bias_dict['b'+str(i)] - learning_rate * layer_derivative_dict['db'+str(i)]"
   ]
  },
  {
   "cell_type": "code",
   "execution_count": 16,
   "metadata": {},
   "outputs": [],
   "source": [
    "## test param update function\n",
    "update_param()"
   ]
  },
  {
   "cell_type": "code",
   "execution_count": 17,
   "metadata": {},
   "outputs": [],
   "source": [
    "## make a dummy training dataset\n",
    "inp_data = np.random.normal(size=(num_data_samples, num_nes[0]))\n",
    "out_true_data = np.random.normal(size=(num_data_samples, num_nes[-1]))\n",
    "#print(training_data)"
   ]
  },
  {
   "cell_type": "code",
   "execution_count": 18,
   "metadata": {},
   "outputs": [],
   "source": [
    "mean_epoch_error_list = list()\n",
    "for e in range(num_epochs):\n",
    "    epoch_loss_list = list()\n",
    "    for i in range(num_data_samples):\n",
    "        inp = np.expand_dims(inp_data[i], 1)\n",
    "        out_true = np.expand_dims(out_true_data[i], 1)\n",
    "        #print(inp.shape)\n",
    "        compute_grads(inp, out_true)\n",
    "        update_param()\n",
    "        out = predict(inp)\n",
    "        error = np.mean(mse(out, out_true))\n",
    "        epoch_loss_list.append(error)\n",
    "    mean_epoch_error = np.mean(np.array(epoch_loss_list))\n",
    "    mean_epoch_error_list.append(mean_epoch_error)\n",
    "    #print(\"Epoch loss: {}\".format(mean_epoch_error))"
   ]
  },
  {
   "cell_type": "code",
   "execution_count": 19,
   "metadata": {},
   "outputs": [
    {
     "data": {
      "text/plain": [
       "[<matplotlib.lines.Line2D at 0x7fa281275518>]"
      ]
     },
     "execution_count": 19,
     "metadata": {},
     "output_type": "execute_result"
    },
    {
     "data": {
      "image/png": "[encoded data removed]",
      "text/plain": [
       "<Figure size 432x288 with 1 Axes>"
      ]
     },
     "metadata": {
      "needs_background": "light"
     },
     "output_type": "display_data"
    }
   ],
   "source": [
    "## Plot the model performance\n",
    "plt.plot(np.arange(0, num_epochs, 1), mean_epoch_error_list)"
   ]
  },
  {
   "cell_type": "code",
   "execution_count": null,
   "metadata": {},
   "outputs": [],
   "source": []
  }
 ],
 "metadata": {
  "kernelspec": {
   "display_name": "Python 3",
   "language": "python",
   "name": "python3"
  },
  "language_info": {
   "codemirror_mode": {
    "name": "ipython",
    "version": 3
   },
   "file_extension": ".py",
   "mimetype": "text/x-python",
   "name": "python",
   "nbconvert_exporter": "python",
   "pygments_lexer": "ipython3",
   "version": "3.6.9"
  }
 },
 "nbformat": 4,
 "nbformat_minor": 2
}
