{
 "cells": [
  {
   "cell_type": "code",
   "execution_count": 58,
   "metadata": {},
   "outputs": [],
   "source": [
    "import tensorflow as tf\n",
    "import numpy as np"
   ]
  },
  {
   "cell_type": "code",
   "execution_count": 59,
   "metadata": {},
   "outputs": [],
   "source": [
    "physical_devices = tf.config.experimental.list_physical_devices('GPU')\n",
    "assert len(physical_devices) > 0, \"Not enough GPU hardware devices available\"\n",
    "config = tf.config.experimental.set_memory_growth(physical_devices[0], True)"
   ]
  },
  {
   "cell_type": "markdown",
   "metadata": {},
   "source": [
    "# Vanila Convolution without any padding"
   ]
  },
  {
   "cell_type": "code",
   "execution_count": 60,
   "metadata": {},
   "outputs": [],
   "source": [
    "inp = tf.random.normal(shape=(1, 28, 28, 128))"
   ]
  },
  {
   "cell_type": "code",
   "execution_count": 61,
   "metadata": {},
   "outputs": [],
   "source": [
    "## vanila convolution\n",
    "model_vanila_conv = tf.keras.models.Sequential(\n",
    "    tf.keras.layers.Conv2D(input_shape=(28,28,128),\n",
    "                           filters=32,\n",
    "                           kernel_size=(3,3),\n",
    "                           padding=\"valid\", \n",
    "                           activation=\"relu\")\n",
    ")"
   ]
  },
  {
   "cell_type": "code",
   "execution_count": 62,
   "metadata": {},
   "outputs": [
    {
     "name": "stdout",
     "output_type": "stream",
     "text": [
      "Model: \"sequential_19\"\n",
      "_________________________________________________________________\n",
      "Layer (type)                 Output Shape              Param #   \n",
      "=================================================================\n",
      "conv2d_19 (Conv2D)           (None, 26, 26, 32)        36896     \n",
      "=================================================================\n",
      "Total params: 36,896\n",
      "Trainable params: 36,896\n",
      "Non-trainable params: 0\n",
      "_________________________________________________________________\n"
     ]
    },
    {
     "data": {
      "text/plain": [
       "TensorShape([1, 26, 26, 32])"
      ]
     },
     "execution_count": 62,
     "metadata": {},
     "output_type": "execute_result"
    }
   ],
   "source": [
    "model_vanila_conv.summary()\n",
    "output = model_vanila_conv(inp)\n",
    "output.shape"
   ]
  },
  {
   "cell_type": "markdown",
   "metadata": {},
   "source": [
    "# Convolution with padding"
   ]
  },
  {
   "cell_type": "code",
   "execution_count": 63,
   "metadata": {},
   "outputs": [],
   "source": [
    "## padded convolution\n",
    "model_padded_conv = tf.keras.models.Sequential(\n",
    "    tf.keras.layers.Conv2D(input_shape=(28,28,128),\n",
    "                           filters=32,\n",
    "                           kernel_size=(3,3),\n",
    "                           padding=\"same\", \n",
    "                           activation=\"relu\")\n",
    ")"
   ]
  },
  {
   "cell_type": "code",
   "execution_count": 64,
   "metadata": {},
   "outputs": [
    {
     "name": "stdout",
     "output_type": "stream",
     "text": [
      "Model: \"sequential_20\"\n",
      "_________________________________________________________________\n",
      "Layer (type)                 Output Shape              Param #   \n",
      "=================================================================\n",
      "conv2d_20 (Conv2D)           (None, 28, 28, 32)        36896     \n",
      "=================================================================\n",
      "Total params: 36,896\n",
      "Trainable params: 36,896\n",
      "Non-trainable params: 0\n",
      "_________________________________________________________________\n"
     ]
    },
    {
     "data": {
      "text/plain": [
       "TensorShape([1, 28, 28, 32])"
      ]
     },
     "execution_count": 64,
     "metadata": {},
     "output_type": "execute_result"
    }
   ],
   "source": [
    "model_padded_conv.summary()\n",
    "output = model_padded_conv(inp)\n",
    "output.shape"
   ]
  },
  {
   "cell_type": "markdown",
   "metadata": {},
   "source": [
    "# Dilated convolution"
   ]
  },
  {
   "cell_type": "code",
   "execution_count": 79,
   "metadata": {},
   "outputs": [],
   "source": [
    "model_dilated_conv = tf.keras.models.Sequential(\n",
    "    tf.keras.layers.Conv2D(input_shape=(28,28,128),\n",
    "                           filters=32,\n",
    "                           kernel_size=(3,3),\n",
    "                           padding=\"valid\", \n",
    "                           activation=\"relu\", \n",
    "                           dilation_rate=2,\n",
    "                           strides=1)\n",
    ")"
   ]
  },
  {
   "cell_type": "code",
   "execution_count": 82,
   "metadata": {},
   "outputs": [
    {
     "name": "stdout",
     "output_type": "stream",
     "text": [
      "Model: \"sequential_29\"\n",
      "_________________________________________________________________\n",
      "Layer (type)                 Output Shape              Param #   \n",
      "=================================================================\n",
      "conv2d_29 (Conv2D)           (None, 24, 24, 32)        36896     \n",
      "=================================================================\n",
      "Total params: 36,896\n",
      "Trainable params: 36,896\n",
      "Non-trainable params: 0\n",
      "_________________________________________________________________\n"
     ]
    },
    {
     "data": {
      "text/plain": [
       "TensorShape([1, 24, 24, 32])"
      ]
     },
     "execution_count": 82,
     "metadata": {},
     "output_type": "execute_result"
    }
   ],
   "source": [
    "model_dilated_conv.summary()\n",
    "output = model_dilated_conv(inp)\n",
    "output.shape"
   ]
  },
  {
   "cell_type": "markdown",
   "metadata": {},
   "source": [
    "# Stride > 1"
   ]
  },
  {
   "cell_type": "code",
   "execution_count": 84,
   "metadata": {},
   "outputs": [],
   "source": [
    "model_stride_conv = tf.keras.models.Sequential(\n",
    "    tf.keras.layers.Conv2D(input_shape=(28,28,128),\n",
    "                           filters=32,\n",
    "                           kernel_size=(3,3),\n",
    "                           padding=\"valid\", \n",
    "                           activation=\"relu\", \n",
    "                           strides=2)\n",
    ")"
   ]
  },
  {
   "cell_type": "code",
   "execution_count": 85,
   "metadata": {},
   "outputs": [
    {
     "name": "stdout",
     "output_type": "stream",
     "text": [
      "Model: \"sequential_31\"\n",
      "_________________________________________________________________\n",
      "Layer (type)                 Output Shape              Param #   \n",
      "=================================================================\n",
      "conv2d_31 (Conv2D)           (None, 13, 13, 32)        36896     \n",
      "=================================================================\n",
      "Total params: 36,896\n",
      "Trainable params: 36,896\n",
      "Non-trainable params: 0\n",
      "_________________________________________________________________\n"
     ]
    },
    {
     "data": {
      "text/plain": [
       "TensorShape([1, 13, 13, 32])"
      ]
     },
     "execution_count": 85,
     "metadata": {},
     "output_type": "execute_result"
    }
   ],
   "source": [
    "model_stride_conv.summary()\n",
    "output = model_stride_conv(inp)\n",
    "output.shape"
   ]
  },
  {
   "cell_type": "markdown",
   "metadata": {},
   "source": [
    "# Inception Layer"
   ]
  },
  {
   "cell_type": "code",
   "execution_count": 105,
   "metadata": {},
   "outputs": [
    {
     "name": "stdout",
     "output_type": "stream",
     "text": [
      "Model: \"inception_layer\"\n",
      "__________________________________________________________________________________________________\n",
      "Layer (type)                    Output Shape         Param #     Connected to                     \n",
      "==================================================================================================\n",
      "input_18 (InputLayer)           [(None, 32, 32, 128) 0                                            \n",
      "__________________________________________________________________________________________________\n",
      "conv2d_91 (Conv2D)              (None, 32, 32, 64)   73792       input_18[0][0]                   \n",
      "__________________________________________________________________________________________________\n",
      "conv2d_92 (Conv2D)              (None, 32, 32, 8)    520         conv2d_91[0][0]                  \n",
      "__________________________________________________________________________________________________\n",
      "conv2d_93 (Conv2D)              (None, 32, 32, 8)    520         conv2d_91[0][0]                  \n",
      "__________________________________________________________________________________________________\n",
      "max_pooling2d_16 (MaxPooling2D) (None, 32, 32, 64)   0           conv2d_91[0][0]                  \n",
      "__________________________________________________________________________________________________\n",
      "conv2d_94 (Conv2D)              (None, 32, 32, 32)   2336        conv2d_92[0][0]                  \n",
      "__________________________________________________________________________________________________\n",
      "conv2d_95 (Conv2D)              (None, 32, 32, 32)   6432        conv2d_93[0][0]                  \n",
      "__________________________________________________________________________________________________\n",
      "conv2d_96 (Conv2D)              (None, 32, 32, 32)   2080        max_pooling2d_16[0][0]           \n",
      "__________________________________________________________________________________________________\n",
      "conv2d_97 (Conv2D)              (None, 32, 32, 32)   2080        conv2d_91[0][0]                  \n",
      "__________________________________________________________________________________________________\n",
      "tf_op_layer_concat_2 (TensorFlo [(None, 32, 32, 128) 0           conv2d_94[0][0]                  \n",
      "                                                                 conv2d_95[0][0]                  \n",
      "                                                                 conv2d_96[0][0]                  \n",
      "                                                                 conv2d_97[0][0]                  \n",
      "==================================================================================================\n",
      "Total params: 87,760\n",
      "Trainable params: 87,760\n",
      "Non-trainable params: 0\n",
      "__________________________________________________________________________________________________\n"
     ]
    }
   ],
   "source": [
    "def get_conv2d(inp_shape, filters, kernel_size):\n",
    "    return \n",
    "def inception_layer():\n",
    "    layer_inputs = tf.keras.Input(shape=(32, 32, 128))\n",
    "    \n",
    "    ## previous layer\n",
    "    conv3x3_1 = tf.keras.layers.Conv2D(64, 3, padding='same', activation=\"relu\")(layer_inputs)\n",
    "    \n",
    "    ## inception dimension reduction layer\n",
    "    conv1x1_1_1 = tf.keras.layers.Conv2D(8, 1, padding='same', activation=\"relu\")(conv3x3_1)\n",
    "    conv1x1_1_2 = tf.keras.layers.Conv2D(8, 1, padding='same', activation=\"relu\")(conv3x3_1)\n",
    "    ## default maxpool with 2x2 and stride 2 (pool size)\n",
    "    maxpool_1_3 = tf.keras.layers.MaxPool2D(3, 1, padding='same')(conv3x3_1)\n",
    "    \n",
    "    ## inception multi receptive layer\n",
    "    conv3x3_2_1 = tf.keras.layers.Conv2D(32, 3, padding='same', activation=\"relu\")(conv1x1_1_1)\n",
    "    conv5x5_2_2 = tf.keras.layers.Conv2D(32, 5, padding='same', activation=\"relu\")(conv1x1_1_2)\n",
    "    conv1x1_2_3 = tf.keras.layers.Conv2D(32, 1, padding='same', activation=\"relu\")(maxpool_1_3)\n",
    "    conv1x1_2_4 = tf.keras.layers.Conv2D(32, 1, padding='same', activation=\"relu\")(conv3x3_1)\n",
    "    \n",
    "    ## concatenate the 4 outputs to produce one output tensor\n",
    "    output = tf.concat((conv3x3_2_1, conv5x5_2_2, conv1x1_2_3, conv1x1_2_4), axis=3)\n",
    "\n",
    "    return layer_inputs, output\n",
    "\n",
    "inputs, outputs = inception_layer()\n",
    "model = tf.keras.Model(inputs=inputs, outputs=outputs, name=\"inception_layer\")\n",
    "model.summary()"
   ]
  },
  {
   "cell_type": "code",
   "execution_count": null,
   "metadata": {},
   "outputs": [],
   "source": []
  }
 ],
 "metadata": {
  "kernelspec": {
   "display_name": "Python 3",
   "language": "python",
   "name": "python3"
  },
  "language_info": {
   "codemirror_mode": {
    "name": "ipython",
    "version": 3
   },
   "file_extension": ".py",
   "mimetype": "text/x-python",
   "name": "python",
   "nbconvert_exporter": "python",
   "pygments_lexer": "ipython3",
   "version": "3.6.9"
  }
 },
 "nbformat": 4,
 "nbformat_minor": 2
}
