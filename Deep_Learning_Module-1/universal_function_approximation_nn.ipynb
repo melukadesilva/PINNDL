{
  "nbformat": 4,
  "nbformat_minor": 0,
  "metadata": {
    "colab": {
      "name": "universal_function_approximation_nn.ipynb",
      "provenance": [],
      "collapsed_sections": []
    },
    "kernelspec": {
      "name": "python3",
      "display_name": "Python 3"
    }
  },
  "cells": [
    {
      "cell_type": "markdown",
      "metadata": {
        "id": "gE4CQ04Zasbp"
      },
      "source": [
        "**NEURAL NETWORK UNIVERSAL FUNCTION APPROXIMATION: VISUALLY**"
      ]
    },
    {
      "cell_type": "code",
      "metadata": {
        "id": "C9VC3rUBaq7P"
      },
      "source": [
        "import numpy as np\n",
        "import matplotlib.pyplot as plt"
      ],
      "execution_count": 62,
      "outputs": []
    },
    {
      "cell_type": "code",
      "metadata": {
        "id": "tsGME8fva_pC"
      },
      "source": [
        "## define a sigmoid function\n",
        "def sig(z):\n",
        "  return 1 / (1 + np.exp(-z))"
      ],
      "execution_count": 63,
      "outputs": []
    },
    {
      "cell_type": "code",
      "metadata": {
        "id": "mbaq58WsbLsZ"
      },
      "source": [
        "## make some inputs\n",
        "x = np.arange(0, 1, 0.01)"
      ],
      "execution_count": 64,
      "outputs": []
    },
    {
      "cell_type": "code",
      "metadata": {
        "id": "UkCuKAC0bRvm"
      },
      "source": [
        "## take the function z = wx + b\n",
        "## define a weight and a bias to check the behavior of a single neuron\n",
        "w1 = [999]#[10] ## uncomment the commented values and see what happens #\n",
        "b1 = [-400]#[-3] #"
      ],
      "execution_count": 65,
      "outputs": []
    },
    {
      "cell_type": "code",
      "metadata": {
        "id": "Yo--iKy3b8y8"
      },
      "source": [
        "## define a simple neural network layer\n",
        "def nn(w_vec, b_vec, x):\n",
        "  ## for each element in w and b -> do: multiply with all element of x and add the b and finally compute the sigmoid of the calculated values\n",
        "  return np.array(list(map(lambda w, b: sig(w * x + b), w_vec, b_vec)))"
      ],
      "execution_count": 66,
      "outputs": []
    },
    {
      "cell_type": "code",
      "metadata": {
        "id": "r9EadbuUcCAs"
      },
      "source": [
        "## Run the network with w1, b1 and x and see the outcome\n",
        "out1 = nn(w1, b1, x)"
      ],
      "execution_count": 67,
      "outputs": []
    },
    {
      "cell_type": "code",
      "metadata": {
        "id": "FLQPRRqZcRwE",
        "outputId": "14f22fcd-f622-4be9-f2b5-59f98ebff8bf",
        "colab": {
          "base_uri": "https://localhost:8080/",
          "height": 265
        }
      },
      "source": [
        "## plot the single neuron output\n",
        "plt.plot(x, out1[0])\n",
        "plt.show()"
      ],
      "execution_count": 68,
      "outputs": [
        {
          "output_type": "display_data",
          "data": {
            "image/png": "[encoded data removed]",
            "text/plain": [
              "<Figure size 432x288 with 1 Axes>"
            ]
          },
          "metadata": {
            "tags": [],
            "needs_background": "light"
          }
        }
      ]
    },
    {
      "cell_type": "code",
      "metadata": {
        "id": "-zj0NjD1chvl"
      },
      "source": [
        "## lets extend the hidden layer from one neuron to two\n",
        "w2 = [999]\n",
        "b2 = [-700]\n",
        "## and see what happens when the nn function is applied\n",
        "out2 = nn(w2, b2, x)"
      ],
      "execution_count": 69,
      "outputs": []
    },
    {
      "cell_type": "code",
      "metadata": {
        "id": "_jMNxXH1do-_",
        "outputId": "aa21cba1-c965-4979-f179-64a19aea3a8f",
        "colab": {
          "base_uri": "https://localhost:8080/",
          "height": 265
        }
      },
      "source": [
        "plt.plot(x, out2[0])\n",
        "plt.show()"
      ],
      "execution_count": 70,
      "outputs": [
        {
          "output_type": "display_data",
          "data": {
            "image/png": "[encoded data removed]",
            "text/plain": [
              "<Figure size 432x288 with 1 Axes>"
            ]
          },
          "metadata": {
            "tags": [],
            "needs_background": "light"
          }
        }
      ]
    },
    {
      "cell_type": "code",
      "metadata": {
        "id": "UWZlY-aqd3_q"
      },
      "source": [
        "## Now lets combine weights and biases into a one list\n",
        "w = w1 + w2\n",
        "b = b1 + b2"
      ],
      "execution_count": 71,
      "outputs": []
    },
    {
      "cell_type": "code",
      "metadata": {
        "id": "cPsHi7feeF6F"
      },
      "source": [
        "out_hidden = nn(w, b, x)"
      ],
      "execution_count": 72,
      "outputs": []
    },
    {
      "cell_type": "code",
      "metadata": {
        "id": "IV36puX-eYUx",
        "outputId": "cbfbb70f-843a-4916-e768-2360c7cb38bc",
        "colab": {
          "base_uri": "https://localhost:8080/",
          "height": 265
        }
      },
      "source": [
        "plt.plot(out_hidden[0])\n",
        "plt.show()"
      ],
      "execution_count": 73,
      "outputs": [
        {
          "output_type": "display_data",
          "data": {
            "image/png": "[encoded data removed]",
            "text/plain": [
              "<Figure size 432x288 with 1 Axes>"
            ]
          },
          "metadata": {
            "tags": [],
            "needs_background": "light"
          }
        }
      ]
    },
    {
      "cell_type": "code",
      "metadata": {
        "id": "cSt1G237ecyt"
      },
      "source": [
        "## Now we give this hidden output to a output layer \n",
        "w3 = [0.8]\n",
        "w4 = [-0.8]\n",
        "## list concatenation (not summing values)\n",
        "wout = w3 + w4"
      ],
      "execution_count": 74,
      "outputs": []
    },
    {
      "cell_type": "code",
      "metadata": {
        "id": "gDj8UMHrfGGd"
      },
      "source": [
        "## Compute the output from the hidden layer input to the output layer\n",
        "out = np.matmul(wout, out_hidden)"
      ],
      "execution_count": 75,
      "outputs": []
    },
    {
      "cell_type": "code",
      "metadata": {
        "id": "XE-fD3ZqfUsc",
        "outputId": "076575af-4708-48c2-8651-f59c77822730",
        "colab": {
          "base_uri": "https://localhost:8080/",
          "height": 265
        }
      },
      "source": [
        "## A Rectangle function (a discrtete step)\n",
        "plt.plot(x, out)\n",
        "plt.show()"
      ],
      "execution_count": 76,
      "outputs": [
        {
          "output_type": "display_data",
          "data": {
            "image/png": "[encoded data removed]",
            "text/plain": [
              "<Figure size 432x288 with 1 Axes>"
            ]
          },
          "metadata": {
            "tags": [],
            "needs_background": "light"
          }
        }
      ]
    },
    {
      "cell_type": "code",
      "metadata": {
        "id": "mQOSy0gUfY1y"
      },
      "source": [
        "## lets exten the hidden layer with another pair of neurons (altogether now 4 neurons)\n",
        "wh_vec = np.array([999.0, 700.0, 700.0, 999.0], dtype=np.float64)\n",
        "bh_vec = [-509.0, -469.0, -469.0, -688.1] "
      ],
      "execution_count": 77,
      "outputs": []
    },
    {
      "cell_type": "code",
      "metadata": {
        "id": "Rvw2chhAf80F"
      },
      "source": [
        "h_out = nn(wh_vec, bh_vec, x)\n",
        "## define the corresponding output layer weights\n",
        "wout_vect = np.array([-0.5, -0.5, 1.0, 1.0])\n",
        "## compute the output from the hidden input\n",
        "out = np.matmul(wout_vect, h_out)"
      ],
      "execution_count": 78,
      "outputs": []
    },
    {
      "cell_type": "code",
      "metadata": {
        "id": "GFmwfLpdgLPD",
        "outputId": "25a94bd2-2b46-4a33-d5ec-7fa622f58c3d",
        "colab": {
          "base_uri": "https://localhost:8080/",
          "height": 265
        }
      },
      "source": [
        "## Increasing the number of neurons can approximate complex functions by composing\n",
        "## rectangular approximation steps\n",
        "plt.plot(x, out)\n",
        "plt.show()"
      ],
      "execution_count": 79,
      "outputs": [
        {
          "output_type": "display_data",
          "data": {
            "image/png": "[encoded data removed]",
            "text/plain": [
              "<Figure size 432x288 with 1 Axes>"
            ]
          },
          "metadata": {
            "tags": [],
            "needs_background": "light"
          }
        }
      ]
    },
    {
      "cell_type": "code",
      "metadata": {
        "id": "pBwmdJQmgN5v"
      },
      "source": [
        "## For more information refer to\n",
        "## https://en.wikipedia.org/wiki/Universal_approximation_theorem"
      ],
      "execution_count": 80,
      "outputs": []
    },
    {
      "cell_type": "code",
      "metadata": {
        "id": "RQvM7SL_he5_"
      },
      "source": [
        ""
      ],
      "execution_count": null,
      "outputs": []
    }
  ]
}