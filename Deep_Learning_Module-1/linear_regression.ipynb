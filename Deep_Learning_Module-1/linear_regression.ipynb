{
  "nbformat": 4,
  "nbformat_minor": 0,
  "metadata": {
    "colab": {
      "name": "linear_regression.ipynb",
      "provenance": [],
      "collapsed_sections": []
    },
    "kernelspec": {
      "name": "python3",
      "display_name": "Python 3"
    }
  },
  "cells": [
    {
      "cell_type": "code",
      "metadata": {
        "id": "06zM0Clnrxdl"
      },
      "source": [
        "import tensorflow as tf"
      ],
      "execution_count": null,
      "outputs": []
    },
    {
      "cell_type": "code",
      "metadata": {
        "id": "U4LEKaKlr2Q8",
        "outputId": "db1a411a-fa8f-46cc-ddb0-867c0cfdb746",
        "colab": {
          "base_uri": "https://localhost:8080/",
          "height": 119
        }
      },
      "source": [
        "## make train samples\n",
        "d_train = tf.random.normal(shape=(5, 1), mean=0.0, stddev=1.0)\n",
        "print(d_train)"
      ],
      "execution_count": null,
      "outputs": [
        {
          "output_type": "stream",
          "text": [
            "tf.Tensor(\n",
            "[[0.8189557 ]\n",
            " [0.9312067 ]\n",
            " [1.507425  ]\n",
            " [0.8596942 ]\n",
            " [0.20790459]], shape=(5, 1), dtype=float32)\n"
          ],
          "name": "stdout"
        }
      ]
    },
    {
      "cell_type": "code",
      "metadata": {
        "id": "xqwB8GVqsSJE",
        "outputId": "229078ac-4190-4d23-bf85-050ce8fcab81",
        "colab": {
          "base_uri": "https://localhost:8080/",
          "height": 119
        }
      },
      "source": [
        "## make corresponding targets\n",
        "d_target = tf.random.normal(shape=(5, 1), mean=0.0, stddev=1.0)\n",
        "print(d_target)"
      ],
      "execution_count": null,
      "outputs": [
        {
          "output_type": "stream",
          "text": [
            "tf.Tensor(\n",
            "[[-0.08082654]\n",
            " [ 0.17782266]\n",
            " [ 0.4343826 ]\n",
            " [ 0.5851097 ]\n",
            " [ 2.4371312 ]], shape=(5, 1), dtype=float32)\n"
          ],
          "name": "stdout"
        }
      ]
    },
    {
      "cell_type": "code",
      "metadata": {
        "id": "dG73Jg8vsgK6"
      },
      "source": [
        "## calculate the parts of the equation xTx and xTy\n",
        "xTx = tf.matmul(tf.transpose(d_train), d_train)\n",
        "xTy = tf.matmul(tf.transpose(d_train), d_target)"
      ],
      "execution_count": null,
      "outputs": []
    },
    {
      "cell_type": "code",
      "metadata": {
        "id": "3xWm-dv2tCLk",
        "outputId": "64007126-3d06-4ad1-b5a7-3188b42ef2ef",
        "colab": {
          "base_uri": "https://localhost:8080/",
          "height": 34
        }
      },
      "source": [
        "## calculate the weights\n",
        "w = tf.matmul(tf.linalg.inv(xTx), xTy)\n",
        "print(w)"
      ],
      "execution_count": null,
      "outputs": [
        {
          "output_type": "stream",
          "text": [
            "tf.Tensor([[0.3840862]], shape=(1, 1), dtype=float32)\n"
          ],
          "name": "stdout"
        }
      ]
    },
    {
      "cell_type": "code",
      "metadata": {
        "id": "nfiDIR3atVfV",
        "outputId": "c6bd5f25-edba-417d-ce5d-270184868b13",
        "colab": {
          "base_uri": "https://localhost:8080/",
          "height": 119
        }
      },
      "source": [
        "d_preds = tf.matmul(d_train, w)\n",
        "print(d_preds)"
      ],
      "execution_count": null,
      "outputs": [
        {
          "output_type": "stream",
          "text": [
            "tf.Tensor(\n",
            "[[0.3145496 ]\n",
            " [0.35766363]\n",
            " [0.5789811 ]\n",
            " [0.33019668]\n",
            " [0.07985328]], shape=(5, 1), dtype=float32)\n"
          ],
          "name": "stdout"
        }
      ]
    },
    {
      "cell_type": "code",
      "metadata": {
        "id": "Qe3doB_VtmKy",
        "outputId": "92045584-64b0-4dab-9338-2a614d3795d1",
        "colab": {
          "base_uri": "https://localhost:8080/",
          "height": 265
        }
      },
      "source": [
        "import matplotlib.pyplot as plt\n",
        "plt.scatter(d_train, d_target)\n",
        "plt.plot(d_train, d_preds)\n",
        "plt.show()"
      ],
      "execution_count": null,
      "outputs": [
        {
          "output_type": "display_data",
          "data": {
            "image/png": "[encoded data removed]",
            "text/plain": [
              "<Figure size 432x288 with 1 Axes>"
            ]
          },
          "metadata": {
            "tags": [],
            "needs_background": "light"
          }
        }
      ]
    },
    {
      "cell_type": "code",
      "metadata": {
        "id": "puBCQwu2uaA1",
        "outputId": "780f136a-711d-44f3-96eb-61dc8699b49b",
        "colab": {
          "base_uri": "https://localhost:8080/",
          "height": 34
        }
      },
      "source": [
        "## get the mse\n",
        "mse_train = tf.math.reduce_mean(tf.square((d_target - d_preds)), axis=0)\n",
        "print(mse_train)"
      ],
      "execution_count": null,
      "outputs": [
        {
          "output_type": "stream",
          "text": [
            "tf.Tensor([1.1662626], shape=(1,), dtype=float32)\n"
          ],
          "name": "stdout"
        }
      ]
    },
    {
      "cell_type": "code",
      "metadata": {
        "id": "KfquwtQ92Bn-"
      },
      "source": [
        "d_test = tf.random.normal(shape=(10, 1), mean=0.0, stddev=1.0)\n",
        "d_target_test = tf.random.normal(shape=(10, 1), mean=0.0, stddev=1.0)\n",
        "d_preds_test = tf.matmul(d_test, w)"
      ],
      "execution_count": null,
      "outputs": []
    },
    {
      "cell_type": "code",
      "metadata": {
        "id": "1jUZfaJ-2Qjl",
        "outputId": "20d780d1-690c-427b-d0c8-4b85a3721986",
        "colab": {
          "base_uri": "https://localhost:8080/",
          "height": 265
        }
      },
      "source": [
        "plt.scatter(d_train, d_target)\n",
        "plt.scatter(d_test, d_target_test)\n",
        "plt.plot(d_train, d_preds)\n",
        "plt.plot(d_test, d_preds_test)\n",
        "plt.show()"
      ],
      "execution_count": null,
      "outputs": [
        {
          "output_type": "display_data",
          "data": {
            "image/png": "[encoded data removed]",
            "text/plain": [
              "<Figure size 432x288 with 1 Axes>"
            ]
          },
          "metadata": {
            "tags": [],
            "needs_background": "light"
          }
        }
      ]
    },
    {
      "cell_type": "code",
      "metadata": {
        "id": "lcOkF5Tc2haE",
        "outputId": "2b66afdb-ba34-462f-f2c4-e22bcf1f84a1",
        "colab": {
          "base_uri": "https://localhost:8080/",
          "height": 34
        }
      },
      "source": [
        "mse_test = tf.math.reduce_mean(tf.square((d_target_test - d_preds_test)), axis=0)\n",
        "print(mse_test)"
      ],
      "execution_count": null,
      "outputs": [
        {
          "output_type": "stream",
          "text": [
            "tf.Tensor([1.1847379], shape=(1,), dtype=float32)\n"
          ],
          "name": "stdout"
        }
      ]
    }
  ]
}