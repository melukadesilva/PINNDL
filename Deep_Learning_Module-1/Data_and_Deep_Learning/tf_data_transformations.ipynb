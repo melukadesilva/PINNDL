{
  "nbformat": 4,
  "nbformat_minor": 0,
  "metadata": {
    "colab": {
      "name": "tf_data_transformations.ipynb",
      "provenance": [],
      "collapsed_sections": []
    },
    "kernelspec": {
      "name": "python3",
      "display_name": "Python 3"
    }
  },
  "cells": [
    {
      "cell_type": "code",
      "metadata": {
        "id": "R-Ur4KVay5Av"
      },
      "source": [
        "import tensorflow as tf\n",
        "import numpy as np\n",
        "import matplotlib.pyplot as plt\n",
        "from PIL import Image\n",
        "import os"
      ],
      "execution_count": 1,
      "outputs": []
    },
    {
      "cell_type": "code",
      "metadata": {
        "id": "hIkZp0ln1ZJq",
        "outputId": "7fb8cda7-6769-4c55-a60c-f348f31c5a70",
        "colab": {
          "base_uri": "https://localhost:8080/",
          "height": 34
        }
      },
      "source": [
        "## Mout your google drive\n",
        "from google.colab import drive\n",
        "## mount location\n",
        "drive.mount('/content/drive')"
      ],
      "execution_count": 2,
      "outputs": [
        {
          "output_type": "stream",
          "text": [
            "Mounted at /content/drive\n"
          ],
          "name": "stdout"
        }
      ]
    },
    {
      "cell_type": "markdown",
      "metadata": {
        "id": "geDwHxKzauxv"
      },
      "source": [
        "## **LOADING A SAVED TFRECORD FILE**"
      ]
    },
    {
      "cell_type": "code",
      "metadata": {
        "id": "rpREnNuREzo2"
      },
      "source": [
        "## Globals\n",
        "IMAGE_SHAPE = [32, 32, 3]\n",
        "IMAGE_RESIZED_SHAPE = [32, 32]\n",
        "SHARPNESS_FACTOR = 0.4\n",
        "EPSILON = 1e-5\n",
        "NUM_DEBUG_IMAGES = 3 ## look at 3 images to see the transformations"
      ],
      "execution_count": 3,
      "outputs": []
    },
    {
      "cell_type": "code",
      "metadata": {
        "id": "DJ_xZgrrUePb",
        "outputId": "a2872129-1888-40ca-e4dd-399a46f30251",
        "colab": {
          "base_uri": "https://localhost:8080/",
          "height": 34
        }
      },
      "source": [
        "## The path where the tf record file is\n",
        "file_name = '/content/drive/My Drive/public_data/cifar_10/cifar_10_data_dataset_api.tfrecords'\n",
        "## Load the raw tf record file from the file system\n",
        "raw_image_dataset = tf.data.TFRecordDataset(file_name)\n",
        "print(raw_image_dataset) ## gives no much information since the parsing of a tfrecord file is not yet implemented\n",
        "## To parse a tfrecord file, one needs the structure of the record file (How the data is structured when they are saved)"
      ],
      "execution_count": 4,
      "outputs": [
        {
          "output_type": "stream",
          "text": [
            "<TFRecordDatasetV2 shapes: (), types: tf.string>\n"
          ],
          "name": "stdout"
        }
      ]
    },
    {
      "cell_type": "code",
      "metadata": {
        "id": "7gc_D5WEbFWj"
      },
      "source": [
        "## Make the structure that would help us to parse the TFRecord file\n",
        "## feature descriptor dict\n",
        "image_feature_description = {\n",
        "    'height': tf.io.FixedLenFeature([], tf.int64),\n",
        "    'width': tf.io.FixedLenFeature([], tf.int64),\n",
        "    'depth': tf.io.FixedLenFeature([], tf.int64),\n",
        "    'label': tf.io.FixedLenFeature([], tf.int64),\n",
        "    'image_raw': tf.io.FixedLenFeature([], tf.string),\n",
        "}"
      ],
      "execution_count": 5,
      "outputs": []
    },
    {
      "cell_type": "code",
      "metadata": {
        "id": "UXGM2kgBbmde"
      },
      "source": [
        "## Now we make a function that an iterator can take as an higher oder function\n",
        "def _parser_image_function(example_proto):\n",
        "    ## Parse a single image feature structure\n",
        "    ## serialized byte --> _parser_image_function(feature description) --> parsed image structure (see image_example function)\n",
        "    return tf.io.parse_single_example(example_proto, image_feature_description)"
      ],
      "execution_count": 6,
      "outputs": []
    },
    {
      "cell_type": "code",
      "metadata": {
        "id": "cKGvyRFw_9iZ",
        "outputId": "37560e4a-174e-4907-faaf-0886f2e78bad",
        "colab": {
          "base_uri": "https://localhost:8080/",
          "height": 51
        }
      },
      "source": [
        "## python map on an iterator example\n",
        "def square_element(x):\n",
        "  return x ** 2\n",
        "\n",
        "a = np.arange(0, 10, 1)\n",
        "print(\"Input Iterator {}\".format(a))\n",
        "b = list(map(lambda x: square_element(x), a))\n",
        "print(\"Output Iterator {}\".format(b))\n",
        "## Note here the a havent changed. The mapping function produces a new list\n",
        "## call the function by means of an iterator mapping. Please see the above mapping. Both works the same way\n",
        "parsed_image_dataset = raw_image_dataset.map(_parser_image_function)"
      ],
      "execution_count": 7,
      "outputs": [
        {
          "output_type": "stream",
          "text": [
            "Input Iterator [0 1 2 3 4 5 6 7 8 9]\n",
            "Output Iterator [0, 1, 4, 9, 16, 25, 36, 49, 64, 81]\n"
          ],
          "name": "stdout"
        }
      ]
    },
    {
      "cell_type": "code",
      "metadata": {
        "id": "F7hGZgTbBIIL"
      },
      "source": [
        "## Now we have access to the keys of the dataset data structure (keys are defined in the feature descreption dict).\n",
        "## store images in a list (Only to debug (view and see the images))\n",
        "'''\n",
        "image_list = list()\n",
        "for image_features in parsed_image_dataset:\n",
        "    ## image byte string --> tf.io.decode_raw --> tf.uint8 image tensor\n",
        "    image_uint = tf.io.decode_raw(image_features['image_raw'], out_type=tf.uint8)\n",
        "    ## get the labels as well (No need to decode because they are stored as int64 values)\n",
        "    image_label = image_features['label']\n",
        "    ## append the decoded images to the list\n",
        "    image_list.append(image_uint.numpy()) \n",
        "'''\n",
        "\n",
        "def image_label(image_features):\n",
        "  image_decoded = tf.io.decode_raw(image_features['image_raw'], out_type=tf.uint8)\n",
        "  image_out = tf.reshape(image_decoded, IMAGE_SHAPE)\n",
        "  image_label = image_features['label']\n",
        "  \n",
        "  return image_out, image_label\n",
        "\n",
        "image_label_dataset = parsed_image_dataset.map(image_label)"
      ],
      "execution_count": 8,
      "outputs": []
    },
    {
      "cell_type": "code",
      "metadata": {
        "id": "bjgASzq8SQi3"
      },
      "source": [
        "## Switch the normalization method as you wish\n",
        "norm_method = \"z_score\" # \"min_max\"\n",
        "\n",
        "def z_stand_image(image):\n",
        "  image = tf.cast(image, tf.float32)\n",
        "  mean, variance = tf.nn.moments(image, axes=[0, 1, 2])\n",
        "  return (image - mean) / tf.sqrt(variance + EPSILON)\n",
        "\n",
        "def min_max_image(image):\n",
        "  min = tf.reduce_min(image)\n",
        "  max = tf.reduce_max(image)\n",
        "  return (image - min) / (max - min)\n",
        "\n",
        "## define a transformer function\n",
        "def transform_image(image_features):\n",
        "  ## decode the image (refer to tf.io documentation)\n",
        "  image_decoded = tf.io.decode_raw(image_features['image_raw'], out_type=tf.uint8)\n",
        "  ## reshape the image (3074) -> (32, 32, 3)\n",
        "  image_out = tf.reshape(image_decoded, IMAGE_SHAPE)\n",
        "  ## randomly flip images (refer to tf.image documentation)\n",
        "  image_out = tf.image.random_flip_left_right(image_out)\n",
        "  ## randomly change brightness (refer to tf.image documentation)\n",
        "  image_out = tf.image.random_brightness(image_out, SHARPNESS_FACTOR)\n",
        "  ## normalize the image ##### Comment when debugging image #####\n",
        "  '''\n",
        "  if norm_method == \"z_score\":\n",
        "    image_out = z_stand_image(image_out)\n",
        "  elif norm_method == \"min_max\":\n",
        "    image_out = min_max_image(image_out)\n",
        "  else:\n",
        "    print(\"Unkown method\")\n",
        "  '''\n",
        "  image_label = image_features['label']\n",
        "\n",
        "  return image_out, image_label\n"
      ],
      "execution_count": 24,
      "outputs": []
    },
    {
      "cell_type": "code",
      "metadata": {
        "id": "bPk2OEDnDeX3"
      },
      "source": [
        "## Generate a dataset of transformed images\n",
        "transformed_dataset = parsed_image_dataset.map(transform_image)"
      ],
      "execution_count": 25,
      "outputs": []
    },
    {
      "cell_type": "code",
      "metadata": {
        "id": "lApVW1UbTa4H",
        "outputId": "0e4a56ff-31fc-4526-ede1-22dfadd2666e",
        "colab": {
          "base_uri": "https://localhost:8080/",
          "height": 52
        }
      },
      "source": [
        "## check what happens to the image when normalized\n",
        "'''\n",
        "image_list = list()\n",
        "for img, lbl in transformed_dataset:\n",
        "  #print(tf.reduce_min(img))\n",
        "  print(tf.nn.moments(img, [0, 1, 2]))\n",
        "  image_list.append(img.numpy())\n",
        "\n",
        "print(np.min(np.array(image_list)))\n",
        "print(np.max(np.array(image_list)))\n",
        "'''"
      ],
      "execution_count": 26,
      "outputs": [
        {
          "output_type": "execute_result",
          "data": {
            "application/vnd.google.colaboratory.intrinsic+json": {
              "type": "string"
            },
            "text/plain": [
              "'\\nimage_list = list()\\nfor img, lbl in transformed_dataset:\\n  #print(tf.reduce_min(img))\\n  print(tf.nn.moments(img, [0, 1, 2]))\\n  image_list.append(img.numpy())\\n\\nprint(np.min(np.array(image_list)))\\nprint(np.max(np.array(image_list)))\\n'"
            ]
          },
          "metadata": {
            "tags": []
          },
          "execution_count": 26
        }
      ]
    },
    {
      "cell_type": "code",
      "metadata": {
        "id": "tPNsbdgSlMhd",
        "outputId": "6b8807ee-aedd-4f5e-effa-d0ecdaa769de",
        "colab": {
          "base_uri": "https://localhost:8080/",
          "height": 268
        }
      },
      "source": [
        "fig=plt.figure()\n",
        "count = 1\n",
        "for (img_t, lbl_t), (img, lbl) in zip(transformed_dataset.take(NUM_DEBUG_IMAGES), image_label_dataset.take(NUM_DEBUG_IMAGES)):\n",
        "  fig.add_subplot(NUM_DEBUG_IMAGES, 2, count)\n",
        "  #print(type(img_t.numpy()))\n",
        "  plt.imshow(img_t)\n",
        "  fig.add_subplot(NUM_DEBUG_IMAGES, 2, count+1)\n",
        "  plt.imshow(img)\n",
        "  count += 2\n",
        "#  print(tf.math.reduce_max(img))\n",
        "#  print(tf.math.reduce_min(img))\n",
        "#  print()"
      ],
      "execution_count": 27,
      "outputs": [
        {
          "output_type": "display_data",
          "data": {
            "image/png": "[encoded data removed]",
            "text/plain": [
              "<Figure size 432x288 with 6 Axes>"
            ]
          },
          "metadata": {
            "tags": [],
            "needs_background": "light"
          }
        }
      ]
    },
    {
      "cell_type": "code",
      "metadata": {
        "id": "qBgfSxrsjaMY"
      },
      "source": [
        ""
      ],
      "execution_count": null,
      "outputs": []
    }
  ]
}