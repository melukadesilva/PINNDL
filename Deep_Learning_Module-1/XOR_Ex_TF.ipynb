{
  "nbformat": 4,
  "nbformat_minor": 0,
  "metadata": {
    "colab": {
      "name": "XOR_Ex_TF.ipynb",
      "provenance": [],
      "collapsed_sections": []
    },
    "kernelspec": {
      "name": "python3",
      "display_name": "Python 3"
    }
  },
  "cells": [
    {
      "cell_type": "code",
      "metadata": {
        "id": "F4E1RphSHxv2"
      },
      "source": [
        "import tensorflow as tf"
      ],
      "execution_count": null,
      "outputs": []
    },
    {
      "cell_type": "code",
      "metadata": {
        "id": "hRTa9gaPH3PA",
        "outputId": "f36a9348-22dc-454e-d7f8-712363fd36bc",
        "colab": {
          "base_uri": "https://localhost:8080/",
          "height": 102
        }
      },
      "source": [
        "## Inputs binary vectors\n",
        "X = tf.constant([[0, 0], [0, 1], [1, 0], [1, 1]])\n",
        "## Input weights\n",
        "W = tf.constant([[1, 1], [1, 1]])\n",
        "## Output weights\n",
        "theta = tf.constant([[1, -2]])\n",
        "## input bias\n",
        "c = tf.constant([[0, -1]])\n",
        "print(X)"
      ],
      "execution_count": null,
      "outputs": [
        {
          "output_type": "stream",
          "text": [
            "tf.Tensor(\n",
            "[[0 0]\n",
            " [0 1]\n",
            " [1 0]\n",
            " [1 1]], shape=(4, 2), dtype=int32)\n"
          ],
          "name": "stdout"
        }
      ]
    },
    {
      "cell_type": "code",
      "metadata": {
        "id": "5f2JSjP3H8Ti",
        "outputId": "a8577e72-1288-424e-e49a-4f12059923da",
        "colab": {
          "base_uri": "https://localhost:8080/",
          "height": 102
        }
      },
      "source": [
        "## Compute hidden layer without the activation\n",
        "h_no_activation = tf.matmul(X, W) + c\n",
        "print(\"Hidden layer without activation\")\n",
        "print(h_no_activation)"
      ],
      "execution_count": null,
      "outputs": [
        {
          "output_type": "stream",
          "text": [
            "tf.Tensor(\n",
            "[[ 0 -1]\n",
            " [ 1  0]\n",
            " [ 1  0]\n",
            " [ 2  1]], shape=(4, 2), dtype=int32)\n"
          ],
          "name": "stdout"
        }
      ]
    },
    {
      "cell_type": "code",
      "metadata": {
        "id": "ycdCzN5aIZc9",
        "outputId": "54ddf649-09aa-43ca-b428-770cfc3b1933",
        "colab": {
          "base_uri": "https://localhost:8080/",
          "height": 102
        }
      },
      "source": [
        "## See the outputs without an activation\n",
        "Y = tf.matmul(h_no_activation, tf.transpose(theta))\n",
        "print(Y)"
      ],
      "execution_count": null,
      "outputs": [
        {
          "output_type": "stream",
          "text": [
            "tf.Tensor(\n",
            "[[2]\n",
            " [1]\n",
            " [1]\n",
            " [0]], shape=(4, 1), dtype=int32)\n"
          ],
          "name": "stdout"
        }
      ]
    },
    {
      "cell_type": "code",
      "metadata": {
        "id": "dz0WMYy_I3H5",
        "outputId": "50a6b721-7b8c-4ae9-a1c1-b3b81288a8ee",
        "colab": {
          "base_uri": "https://localhost:8080/",
          "height": 102
        }
      },
      "source": [
        "## Compute outputs with a ReLU activation\n",
        "h_with_activation = tf.nn.relu(tf.matmul(X, W) + c)\n",
        "print(\"Hidden layer with activation\")\n",
        "print(h_with_activation)"
      ],
      "execution_count": null,
      "outputs": [
        {
          "output_type": "stream",
          "text": [
            "tf.Tensor(\n",
            "[[0 0]\n",
            " [1 0]\n",
            " [1 0]\n",
            " [2 1]], shape=(4, 2), dtype=int32)\n"
          ],
          "name": "stdout"
        }
      ]
    },
    {
      "cell_type": "code",
      "metadata": {
        "id": "QmOTleOUJWK8",
        "outputId": "78976ba1-627e-4f8a-ee97-f3de7ef073f6",
        "colab": {
          "base_uri": "https://localhost:8080/",
          "height": 102
        }
      },
      "source": [
        "## Compute the correct outputs \n",
        "Y = tf.matmul(h_with_activation, tf.transpose(theta))\n",
        "print(Y)"
      ],
      "execution_count": null,
      "outputs": [
        {
          "output_type": "stream",
          "text": [
            "tf.Tensor(\n",
            "[[0]\n",
            " [1]\n",
            " [1]\n",
            " [0]], shape=(4, 1), dtype=int32)\n"
          ],
          "name": "stdout"
        }
      ]
    },
    {
      "cell_type": "code",
      "metadata": {
        "id": "m6XBG3q5OwGi"
      },
      "source": [
        ""
      ],
      "execution_count": null,
      "outputs": []
    }
  ]
}